{
  "nbformat": 4,
  "nbformat_minor": 0,
  "metadata": {
    "colab": {
      "provenance": []
    },
    "kernelspec": {
      "name": "python3",
      "display_name": "Python 3"
    },
    "language_info": {
      "name": "python"
    },
    "gpuClass": "standard",
    "widgets": {
      "application/vnd.jupyter.widget-state+json": {
        "875f1751d36c4ffca6938e3c0e1d946a": {
          "model_module": "@jupyter-widgets/controls",
          "model_name": "HBoxModel",
          "model_module_version": "1.5.0",
          "state": {
            "_dom_classes": [],
            "_model_module": "@jupyter-widgets/controls",
            "_model_module_version": "1.5.0",
            "_model_name": "HBoxModel",
            "_view_count": null,
            "_view_module": "@jupyter-widgets/controls",
            "_view_module_version": "1.5.0",
            "_view_name": "HBoxView",
            "box_style": "",
            "children": [
              "IPY_MODEL_e19eb027640a4e628cb2df976fa615d0",
              "IPY_MODEL_ed3dd28d04a34024b7452dd9a068fa50",
              "IPY_MODEL_f3659606e43b41f78679c33b7046452d"
            ],
            "layout": "IPY_MODEL_2eeb0b7332574c9f88f56936db4d0d85"
          }
        },
        "e19eb027640a4e628cb2df976fa615d0": {
          "model_module": "@jupyter-widgets/controls",
          "model_name": "HTMLModel",
          "model_module_version": "1.5.0",
          "state": {
            "_dom_classes": [],
            "_model_module": "@jupyter-widgets/controls",
            "_model_module_version": "1.5.0",
            "_model_name": "HTMLModel",
            "_view_count": null,
            "_view_module": "@jupyter-widgets/controls",
            "_view_module_version": "1.5.0",
            "_view_name": "HTMLView",
            "description": "",
            "description_tooltip": null,
            "layout": "IPY_MODEL_856d65870c0a4d02adfdc8f8dd0f586f",
            "placeholder": "​",
            "style": "IPY_MODEL_fa4f63cf64bb4766824eb53cb475b484",
            "value": "100%"
          }
        },
        "ed3dd28d04a34024b7452dd9a068fa50": {
          "model_module": "@jupyter-widgets/controls",
          "model_name": "FloatProgressModel",
          "model_module_version": "1.5.0",
          "state": {
            "_dom_classes": [],
            "_model_module": "@jupyter-widgets/controls",
            "_model_module_version": "1.5.0",
            "_model_name": "FloatProgressModel",
            "_view_count": null,
            "_view_module": "@jupyter-widgets/controls",
            "_view_module_version": "1.5.0",
            "_view_name": "ProgressView",
            "bar_style": "success",
            "description": "",
            "description_tooltip": null,
            "layout": "IPY_MODEL_e729b54630784cc78ee811e0a75b3163",
            "max": 46830571,
            "min": 0,
            "orientation": "horizontal",
            "style": "IPY_MODEL_9f81d469175e424588643176587fe689",
            "value": 46830571
          }
        },
        "f3659606e43b41f78679c33b7046452d": {
          "model_module": "@jupyter-widgets/controls",
          "model_name": "HTMLModel",
          "model_module_version": "1.5.0",
          "state": {
            "_dom_classes": [],
            "_model_module": "@jupyter-widgets/controls",
            "_model_module_version": "1.5.0",
            "_model_name": "HTMLModel",
            "_view_count": null,
            "_view_module": "@jupyter-widgets/controls",
            "_view_module_version": "1.5.0",
            "_view_name": "HTMLView",
            "description": "",
            "description_tooltip": null,
            "layout": "IPY_MODEL_2398953e84c847828d8d0d37e93766d8",
            "placeholder": "​",
            "style": "IPY_MODEL_ccc1721c4f13454d8b2d6c23372b86f7",
            "value": " 44.7M/44.7M [00:00&lt;00:00, 98.1MB/s]"
          }
        },
        "2eeb0b7332574c9f88f56936db4d0d85": {
          "model_module": "@jupyter-widgets/base",
          "model_name": "LayoutModel",
          "model_module_version": "1.2.0",
          "state": {
            "_model_module": "@jupyter-widgets/base",
            "_model_module_version": "1.2.0",
            "_model_name": "LayoutModel",
            "_view_count": null,
            "_view_module": "@jupyter-widgets/base",
            "_view_module_version": "1.2.0",
            "_view_name": "LayoutView",
            "align_content": null,
            "align_items": null,
            "align_self": null,
            "border": null,
            "bottom": null,
            "display": null,
            "flex": null,
            "flex_flow": null,
            "grid_area": null,
            "grid_auto_columns": null,
            "grid_auto_flow": null,
            "grid_auto_rows": null,
            "grid_column": null,
            "grid_gap": null,
            "grid_row": null,
            "grid_template_areas": null,
            "grid_template_columns": null,
            "grid_template_rows": null,
            "height": null,
            "justify_content": null,
            "justify_items": null,
            "left": null,
            "margin": null,
            "max_height": null,
            "max_width": null,
            "min_height": null,
            "min_width": null,
            "object_fit": null,
            "object_position": null,
            "order": null,
            "overflow": null,
            "overflow_x": null,
            "overflow_y": null,
            "padding": null,
            "right": null,
            "top": null,
            "visibility": null,
            "width": null
          }
        },
        "856d65870c0a4d02adfdc8f8dd0f586f": {
          "model_module": "@jupyter-widgets/base",
          "model_name": "LayoutModel",
          "model_module_version": "1.2.0",
          "state": {
            "_model_module": "@jupyter-widgets/base",
            "_model_module_version": "1.2.0",
            "_model_name": "LayoutModel",
            "_view_count": null,
            "_view_module": "@jupyter-widgets/base",
            "_view_module_version": "1.2.0",
            "_view_name": "LayoutView",
            "align_content": null,
            "align_items": null,
            "align_self": null,
            "border": null,
            "bottom": null,
            "display": null,
            "flex": null,
            "flex_flow": null,
            "grid_area": null,
            "grid_auto_columns": null,
            "grid_auto_flow": null,
            "grid_auto_rows": null,
            "grid_column": null,
            "grid_gap": null,
            "grid_row": null,
            "grid_template_areas": null,
            "grid_template_columns": null,
            "grid_template_rows": null,
            "height": null,
            "justify_content": null,
            "justify_items": null,
            "left": null,
            "margin": null,
            "max_height": null,
            "max_width": null,
            "min_height": null,
            "min_width": null,
            "object_fit": null,
            "object_position": null,
            "order": null,
            "overflow": null,
            "overflow_x": null,
            "overflow_y": null,
            "padding": null,
            "right": null,
            "top": null,
            "visibility": null,
            "width": null
          }
        },
        "fa4f63cf64bb4766824eb53cb475b484": {
          "model_module": "@jupyter-widgets/controls",
          "model_name": "DescriptionStyleModel",
          "model_module_version": "1.5.0",
          "state": {
            "_model_module": "@jupyter-widgets/controls",
            "_model_module_version": "1.5.0",
            "_model_name": "DescriptionStyleModel",
            "_view_count": null,
            "_view_module": "@jupyter-widgets/base",
            "_view_module_version": "1.2.0",
            "_view_name": "StyleView",
            "description_width": ""
          }
        },
        "e729b54630784cc78ee811e0a75b3163": {
          "model_module": "@jupyter-widgets/base",
          "model_name": "LayoutModel",
          "model_module_version": "1.2.0",
          "state": {
            "_model_module": "@jupyter-widgets/base",
            "_model_module_version": "1.2.0",
            "_model_name": "LayoutModel",
            "_view_count": null,
            "_view_module": "@jupyter-widgets/base",
            "_view_module_version": "1.2.0",
            "_view_name": "LayoutView",
            "align_content": null,
            "align_items": null,
            "align_self": null,
            "border": null,
            "bottom": null,
            "display": null,
            "flex": null,
            "flex_flow": null,
            "grid_area": null,
            "grid_auto_columns": null,
            "grid_auto_flow": null,
            "grid_auto_rows": null,
            "grid_column": null,
            "grid_gap": null,
            "grid_row": null,
            "grid_template_areas": null,
            "grid_template_columns": null,
            "grid_template_rows": null,
            "height": null,
            "justify_content": null,
            "justify_items": null,
            "left": null,
            "margin": null,
            "max_height": null,
            "max_width": null,
            "min_height": null,
            "min_width": null,
            "object_fit": null,
            "object_position": null,
            "order": null,
            "overflow": null,
            "overflow_x": null,
            "overflow_y": null,
            "padding": null,
            "right": null,
            "top": null,
            "visibility": null,
            "width": null
          }
        },
        "9f81d469175e424588643176587fe689": {
          "model_module": "@jupyter-widgets/controls",
          "model_name": "ProgressStyleModel",
          "model_module_version": "1.5.0",
          "state": {
            "_model_module": "@jupyter-widgets/controls",
            "_model_module_version": "1.5.0",
            "_model_name": "ProgressStyleModel",
            "_view_count": null,
            "_view_module": "@jupyter-widgets/base",
            "_view_module_version": "1.2.0",
            "_view_name": "StyleView",
            "bar_color": null,
            "description_width": ""
          }
        },
        "2398953e84c847828d8d0d37e93766d8": {
          "model_module": "@jupyter-widgets/base",
          "model_name": "LayoutModel",
          "model_module_version": "1.2.0",
          "state": {
            "_model_module": "@jupyter-widgets/base",
            "_model_module_version": "1.2.0",
            "_model_name": "LayoutModel",
            "_view_count": null,
            "_view_module": "@jupyter-widgets/base",
            "_view_module_version": "1.2.0",
            "_view_name": "LayoutView",
            "align_content": null,
            "align_items": null,
            "align_self": null,
            "border": null,
            "bottom": null,
            "display": null,
            "flex": null,
            "flex_flow": null,
            "grid_area": null,
            "grid_auto_columns": null,
            "grid_auto_flow": null,
            "grid_auto_rows": null,
            "grid_column": null,
            "grid_gap": null,
            "grid_row": null,
            "grid_template_areas": null,
            "grid_template_columns": null,
            "grid_template_rows": null,
            "height": null,
            "justify_content": null,
            "justify_items": null,
            "left": null,
            "margin": null,
            "max_height": null,
            "max_width": null,
            "min_height": null,
            "min_width": null,
            "object_fit": null,
            "object_position": null,
            "order": null,
            "overflow": null,
            "overflow_x": null,
            "overflow_y": null,
            "padding": null,
            "right": null,
            "top": null,
            "visibility": null,
            "width": null
          }
        },
        "ccc1721c4f13454d8b2d6c23372b86f7": {
          "model_module": "@jupyter-widgets/controls",
          "model_name": "DescriptionStyleModel",
          "model_module_version": "1.5.0",
          "state": {
            "_model_module": "@jupyter-widgets/controls",
            "_model_module_version": "1.5.0",
            "_model_name": "DescriptionStyleModel",
            "_view_count": null,
            "_view_module": "@jupyter-widgets/base",
            "_view_module_version": "1.2.0",
            "_view_name": "StyleView",
            "description_width": ""
          }
        }
      }
    }
  },
  "cells": [
    {
      "cell_type": "code",
      "execution_count": 1,
      "metadata": {
        "id": "PCrmCKqVJWpN"
      },
      "outputs": [],
      "source": [
        "import torch as pt\n",
        "import torch.nn as nn\n",
        "from torch.utils.data import DataLoader\n",
        "from torchvision import datasets,transforms\n",
        "import torchvision"
      ]
    },
    {
      "cell_type": "code",
      "source": [
        "\n",
        "!pip install -q torchinfo\n",
        "from torchinfo import summary"
      ],
      "metadata": {
        "id": "ktMIgd58xp1P"
      },
      "execution_count": 2,
      "outputs": []
    },
    {
      "cell_type": "code",
      "source": [
        "import matplotlib.pyplot as plt\n",
        "import cv2 as cv\n",
        "from PIL import Image"
      ],
      "metadata": {
        "id": "4hUdzpU-VfEd"
      },
      "execution_count": 3,
      "outputs": []
    },
    {
      "cell_type": "code",
      "source": [
        "import numpy as np\n",
        "from sklearn.neighbors import KNeighborsClassifier"
      ],
      "metadata": {
        "id": "PUlkm5rafacs"
      },
      "execution_count": 4,
      "outputs": []
    },
    {
      "cell_type": "markdown",
      "source": [
        "# DATA PREPROCESSING"
      ],
      "metadata": {
        "id": "xAhX_KzTKdcN"
      }
    },
    {
      "cell_type": "code",
      "source": [
        "train_path = '/content/drive/MyDrive/classification_dataset/train' # Path to my train dataset\n",
        "test_path = '/content/drive/MyDrive/classification_dataset/test'   # Path to my test dataset"
      ],
      "metadata": {
        "id": "bmVpl8PRKmF0"
      },
      "execution_count": 5,
      "outputs": []
    },
    {
      "cell_type": "code",
      "source": [
        "data_transform = transforms.Compose([\n",
        "    transforms.Resize(size=(224,224)),\n",
        "    transforms.ToTensor()\n",
        "])"
      ],
      "metadata": {
        "id": "4vLsAfPKMzMj"
      },
      "execution_count": 6,
      "outputs": []
    },
    {
      "cell_type": "markdown",
      "source": [
        "### Testing input images form"
      ],
      "metadata": {
        "id": "CBKZFyumc_O1"
      }
    },
    {
      "cell_type": "code",
      "source": [
        "image = Image.open('/content/drive/MyDrive/classification_dataset/test/bear/009_0081.jpg') #Testing path\n",
        "plt.imshow(image)"
      ],
      "metadata": {
        "colab": {
          "base_uri": "https://localhost:8080/",
          "height": 286
        },
        "id": "hB9oOKI5QCdL",
        "outputId": "1a1a753d-b538-4115-e55a-14baae61b703"
      },
      "execution_count": null,
      "outputs": [
        {
          "output_type": "execute_result",
          "data": {
            "text/plain": [
              "<matplotlib.image.AxesImage at 0x7f714a829760>"
            ]
          },
          "metadata": {},
          "execution_count": 7
        },
        {
          "output_type": "display_data",
          "data": {
            "text/plain": [
              "<Figure size 432x288 with 1 Axes>"
            ],
            "image/png": "[encoded data removed]"
          },
          "metadata": {
            "needs_background": "light"
          }
        }
      ]
    },
    {
      "cell_type": "code",
      "source": [
        "img = data_transform(image)"
      ],
      "metadata": {
        "id": "rc-L8B6OV3Rg"
      },
      "execution_count": null,
      "outputs": []
    },
    {
      "cell_type": "code",
      "source": [
        "plt.imshow(img.permute(1,2,0))"
      ],
      "metadata": {
        "colab": {
          "base_uri": "https://localhost:8080/",
          "height": 286
        },
        "id": "IZXZFsb8WZC0",
        "outputId": "f5c94cb2-44ba-43c8-b590-1031efb6fa64"
      },
      "execution_count": null,
      "outputs": [
        {
          "output_type": "execute_result",
          "data": {
            "text/plain": [
              "<matplotlib.image.AxesImage at 0x7f714a38e400>"
            ]
          },
          "metadata": {},
          "execution_count": 9
        },
        {
          "output_type": "display_data",
          "data": {
            "text/plain": [
              "<Figure size 432x288 with 1 Axes>"
            ],
            "image/png": "[encoded data removed]"
          },
          "metadata": {
            "needs_background": "light"
          }
        }
      ]
    },
    {
      "cell_type": "markdown",
      "source": [
        "### Creating Dataloader"
      ],
      "metadata": {
        "id": "sze4FnrvduvO"
      }
    },
    {
      "cell_type": "code",
      "source": [
        "train_data = datasets.ImageFolder(root = train_path,transform=data_transform,target_transform=None)\n",
        "test_data = datasets.ImageFolder(root = test_path,transform=data_transform,target_transform=None)"
      ],
      "metadata": {
        "id": "wC88eyNVdxnE"
      },
      "execution_count": null,
      "outputs": []
    },
    {
      "cell_type": "code",
      "source": [
        "print(train_data)\n",
        "print(train_data.classes)\n",
        "print(test_data[100][1])"
      ],
      "metadata": {
        "colab": {
          "base_uri": "https://localhost:8080/"
        },
        "id": "_oYkbLNmezGj",
        "outputId": "9cf41198-a5a4-4e7a-83b8-66ff70cce38c"
      },
      "execution_count": null,
      "outputs": [
        {
          "output_type": "stream",
          "name": "stdout",
          "text": [
            "Dataset ImageFolder\n",
            "    Number of datapoints: 532\n",
            "    Root location: /content/drive/MyDrive/classification_dataset/train\n",
            "    StandardTransform\n",
            "Transform: Compose(\n",
            "               Resize(size=(224, 224), interpolation=bilinear, max_size=None, antialias=None)\n",
            "               ToTensor()\n",
            "           )\n",
            "['bear', 'butterfly', 'camel', 'chimp', 'duck', 'elephant']\n",
            "5\n"
          ]
        }
      ]
    },
    {
      "cell_type": "code",
      "source": [
        "#plt.imshow(train_data[0][0].permute(1,2,0))"
      ],
      "metadata": {
        "id": "unD2MFhfe4Ol"
      },
      "execution_count": null,
      "outputs": []
    },
    {
      "cell_type": "code",
      "source": [
        "train_dataloader = DataLoader(dataset = train_data,batch_size=1,shuffle=True)\n",
        "test_dataloader = DataLoader(dataset = test_data,batch_size=1,shuffle=False)"
      ],
      "metadata": {
        "id": "UgPZ3QxOf9o9"
      },
      "execution_count": null,
      "outputs": []
    },
    {
      "cell_type": "markdown",
      "source": [
        "# Q2_a"
      ],
      "metadata": {
        "id": "dabHC5qbnbgG"
      }
    },
    {
      "cell_type": "markdown",
      "source": [
        "## Getting Pre-trained Model "
      ],
      "metadata": {
        "id": "IdlNqkvUj6B5"
      }
    },
    {
      "cell_type": "code",
      "source": [
        "# Initialising pre trained model\n",
        "weights = torchvision.models.ResNet18_Weights.DEFAULT\n",
        "model = torchvision.models.resnet18(weights=weights)"
      ],
      "metadata": {
        "id": "7nUxLkUVj8FZ",
        "colab": {
          "base_uri": "https://localhost:8080/",
          "height": 86,
          "referenced_widgets": [
            "875f1751d36c4ffca6938e3c0e1d946a",
            "e19eb027640a4e628cb2df976fa615d0",
            "ed3dd28d04a34024b7452dd9a068fa50",
            "f3659606e43b41f78679c33b7046452d",
            "2eeb0b7332574c9f88f56936db4d0d85",
            "856d65870c0a4d02adfdc8f8dd0f586f",
            "fa4f63cf64bb4766824eb53cb475b484",
            "e729b54630784cc78ee811e0a75b3163",
            "9f81d469175e424588643176587fe689",
            "2398953e84c847828d8d0d37e93766d8",
            "ccc1721c4f13454d8b2d6c23372b86f7"
          ]
        },
        "outputId": "eff4580e-90c1-4dac-95cd-b015c3684777"
      },
      "execution_count": null,
      "outputs": [
        {
          "output_type": "stream",
          "name": "stderr",
          "text": [
            "Downloading: \"https://download.pytorch.org/models/resnet18-f37072fd.pth\" to /root/.cache/torch/hub/checkpoints/resnet18-f37072fd.pth\n"
          ]
        },
        {
          "output_type": "display_data",
          "data": {
            "text/plain": [
              "  0%|          | 0.00/44.7M [00:00<?, ?B/s]"
            ],
            "application/vnd.jupyter.widget-view+json": {
              "version_major": 2,
              "version_minor": 0,
              "model_id": "875f1751d36c4ffca6938e3c0e1d946a"
            }
          },
          "metadata": {}
        }
      ]
    },
    {
      "cell_type": "code",
      "source": [
        "# deleting last fc layer\n",
        "model1 = nn.Sequential(*list(model.children())[:-1]) # Instead you can replace fc with Identity layer here"
      ],
      "metadata": {
        "id": "hNRVrXjkDlaX"
      },
      "execution_count": null,
      "outputs": []
    },
    {
      "cell_type": "code",
      "source": [
        "model1"
      ],
      "metadata": {
        "colab": {
          "base_uri": "https://localhost:8080/"
        },
        "id": "vC-X7EoDuBgU",
        "outputId": "71c351ec-2a48-4671-bb6c-332caf01c72c"
      },
      "execution_count": null,
      "outputs": [
        {
          "output_type": "execute_result",
          "data": {
            "text/plain": [
              "Sequential(\n",
              "  (0): Conv2d(3, 64, kernel_size=(7, 7), stride=(2, 2), padding=(3, 3), bias=False)\n",
              "  (1): BatchNorm2d(64, eps=1e-05, momentum=0.1, affine=True, track_running_stats=True)\n",
              "  (2): ReLU(inplace=True)\n",
              "  (3): MaxPool2d(kernel_size=3, stride=2, padding=1, dilation=1, ceil_mode=False)\n",
              "  (4): Sequential(\n",
              "    (0): BasicBlock(\n",
              "      (conv1): Conv2d(64, 64, kernel_size=(3, 3), stride=(1, 1), padding=(1, 1), bias=False)\n",
              "      (bn1): BatchNorm2d(64, eps=1e-05, momentum=0.1, affine=True, track_running_stats=True)\n",
              "      (relu): ReLU(inplace=True)\n",
              "      (conv2): Conv2d(64, 64, kernel_size=(3, 3), stride=(1, 1), padding=(1, 1), bias=False)\n",
              "      (bn2): BatchNorm2d(64, eps=1e-05, momentum=0.1, affine=True, track_running_stats=True)\n",
              "    )\n",
              "    (1): BasicBlock(\n",
              "      (conv1): Conv2d(64, 64, kernel_size=(3, 3), stride=(1, 1), padding=(1, 1), bias=False)\n",
              "      (bn1): BatchNorm2d(64, eps=1e-05, momentum=0.1, affine=True, track_running_stats=True)\n",
              "      (relu): ReLU(inplace=True)\n",
              "      (conv2): Conv2d(64, 64, kernel_size=(3, 3), stride=(1, 1), padding=(1, 1), bias=False)\n",
              "      (bn2): BatchNorm2d(64, eps=1e-05, momentum=0.1, affine=True, track_running_stats=True)\n",
              "    )\n",
              "  )\n",
              "  (5): Sequential(\n",
              "    (0): BasicBlock(\n",
              "      (conv1): Conv2d(64, 128, kernel_size=(3, 3), stride=(2, 2), padding=(1, 1), bias=False)\n",
              "      (bn1): BatchNorm2d(128, eps=1e-05, momentum=0.1, affine=True, track_running_stats=True)\n",
              "      (relu): ReLU(inplace=True)\n",
              "      (conv2): Conv2d(128, 128, kernel_size=(3, 3), stride=(1, 1), padding=(1, 1), bias=False)\n",
              "      (bn2): BatchNorm2d(128, eps=1e-05, momentum=0.1, affine=True, track_running_stats=True)\n",
              "      (downsample): Sequential(\n",
              "        (0): Conv2d(64, 128, kernel_size=(1, 1), stride=(2, 2), bias=False)\n",
              "        (1): BatchNorm2d(128, eps=1e-05, momentum=0.1, affine=True, track_running_stats=True)\n",
              "      )\n",
              "    )\n",
              "    (1): BasicBlock(\n",
              "      (conv1): Conv2d(128, 128, kernel_size=(3, 3), stride=(1, 1), padding=(1, 1), bias=False)\n",
              "      (bn1): BatchNorm2d(128, eps=1e-05, momentum=0.1, affine=True, track_running_stats=True)\n",
              "      (relu): ReLU(inplace=True)\n",
              "      (conv2): Conv2d(128, 128, kernel_size=(3, 3), stride=(1, 1), padding=(1, 1), bias=False)\n",
              "      (bn2): BatchNorm2d(128, eps=1e-05, momentum=0.1, affine=True, track_running_stats=True)\n",
              "    )\n",
              "  )\n",
              "  (6): Sequential(\n",
              "    (0): BasicBlock(\n",
              "      (conv1): Conv2d(128, 256, kernel_size=(3, 3), stride=(2, 2), padding=(1, 1), bias=False)\n",
              "      (bn1): BatchNorm2d(256, eps=1e-05, momentum=0.1, affine=True, track_running_stats=True)\n",
              "      (relu): ReLU(inplace=True)\n",
              "      (conv2): Conv2d(256, 256, kernel_size=(3, 3), stride=(1, 1), padding=(1, 1), bias=False)\n",
              "      (bn2): BatchNorm2d(256, eps=1e-05, momentum=0.1, affine=True, track_running_stats=True)\n",
              "      (downsample): Sequential(\n",
              "        (0): Conv2d(128, 256, kernel_size=(1, 1), stride=(2, 2), bias=False)\n",
              "        (1): BatchNorm2d(256, eps=1e-05, momentum=0.1, affine=True, track_running_stats=True)\n",
              "      )\n",
              "    )\n",
              "    (1): BasicBlock(\n",
              "      (conv1): Conv2d(256, 256, kernel_size=(3, 3), stride=(1, 1), padding=(1, 1), bias=False)\n",
              "      (bn1): BatchNorm2d(256, eps=1e-05, momentum=0.1, affine=True, track_running_stats=True)\n",
              "      (relu): ReLU(inplace=True)\n",
              "      (conv2): Conv2d(256, 256, kernel_size=(3, 3), stride=(1, 1), padding=(1, 1), bias=False)\n",
              "      (bn2): BatchNorm2d(256, eps=1e-05, momentum=0.1, affine=True, track_running_stats=True)\n",
              "    )\n",
              "  )\n",
              "  (7): Sequential(\n",
              "    (0): BasicBlock(\n",
              "      (conv1): Conv2d(256, 512, kernel_size=(3, 3), stride=(2, 2), padding=(1, 1), bias=False)\n",
              "      (bn1): BatchNorm2d(512, eps=1e-05, momentum=0.1, affine=True, track_running_stats=True)\n",
              "      (relu): ReLU(inplace=True)\n",
              "      (conv2): Conv2d(512, 512, kernel_size=(3, 3), stride=(1, 1), padding=(1, 1), bias=False)\n",
              "      (bn2): BatchNorm2d(512, eps=1e-05, momentum=0.1, affine=True, track_running_stats=True)\n",
              "      (downsample): Sequential(\n",
              "        (0): Conv2d(256, 512, kernel_size=(1, 1), stride=(2, 2), bias=False)\n",
              "        (1): BatchNorm2d(512, eps=1e-05, momentum=0.1, affine=True, track_running_stats=True)\n",
              "      )\n",
              "    )\n",
              "    (1): BasicBlock(\n",
              "      (conv1): Conv2d(512, 512, kernel_size=(3, 3), stride=(1, 1), padding=(1, 1), bias=False)\n",
              "      (bn1): BatchNorm2d(512, eps=1e-05, momentum=0.1, affine=True, track_running_stats=True)\n",
              "      (relu): ReLU(inplace=True)\n",
              "      (conv2): Conv2d(512, 512, kernel_size=(3, 3), stride=(1, 1), padding=(1, 1), bias=False)\n",
              "      (bn2): BatchNorm2d(512, eps=1e-05, momentum=0.1, affine=True, track_running_stats=True)\n",
              "    )\n",
              "  )\n",
              "  (8): AdaptiveAvgPool2d(output_size=(1, 1))\n",
              ")"
            ]
          },
          "metadata": {},
          "execution_count": 16
        }
      ]
    },
    {
      "cell_type": "code",
      "source": [
        "model1.eval() #Bringing to evaluation mode to make it act as feature extractor"
      ],
      "metadata": {
        "colab": {
          "base_uri": "https://localhost:8080/"
        },
        "id": "XpnFc7P5Hb7c",
        "outputId": "debdcb04-082c-4ed5-8291-054429dc4f1b"
      },
      "execution_count": null,
      "outputs": [
        {
          "output_type": "execute_result",
          "data": {
            "text/plain": [
              "Sequential(\n",
              "  (0): Conv2d(3, 64, kernel_size=(7, 7), stride=(2, 2), padding=(3, 3), bias=False)\n",
              "  (1): BatchNorm2d(64, eps=1e-05, momentum=0.1, affine=True, track_running_stats=True)\n",
              "  (2): ReLU(inplace=True)\n",
              "  (3): MaxPool2d(kernel_size=3, stride=2, padding=1, dilation=1, ceil_mode=False)\n",
              "  (4): Sequential(\n",
              "    (0): BasicBlock(\n",
              "      (conv1): Conv2d(64, 64, kernel_size=(3, 3), stride=(1, 1), padding=(1, 1), bias=False)\n",
              "      (bn1): BatchNorm2d(64, eps=1e-05, momentum=0.1, affine=True, track_running_stats=True)\n",
              "      (relu): ReLU(inplace=True)\n",
              "      (conv2): Conv2d(64, 64, kernel_size=(3, 3), stride=(1, 1), padding=(1, 1), bias=False)\n",
              "      (bn2): BatchNorm2d(64, eps=1e-05, momentum=0.1, affine=True, track_running_stats=True)\n",
              "    )\n",
              "    (1): BasicBlock(\n",
              "      (conv1): Conv2d(64, 64, kernel_size=(3, 3), stride=(1, 1), padding=(1, 1), bias=False)\n",
              "      (bn1): BatchNorm2d(64, eps=1e-05, momentum=0.1, affine=True, track_running_stats=True)\n",
              "      (relu): ReLU(inplace=True)\n",
              "      (conv2): Conv2d(64, 64, kernel_size=(3, 3), stride=(1, 1), padding=(1, 1), bias=False)\n",
              "      (bn2): BatchNorm2d(64, eps=1e-05, momentum=0.1, affine=True, track_running_stats=True)\n",
              "    )\n",
              "  )\n",
              "  (5): Sequential(\n",
              "    (0): BasicBlock(\n",
              "      (conv1): Conv2d(64, 128, kernel_size=(3, 3), stride=(2, 2), padding=(1, 1), bias=False)\n",
              "      (bn1): BatchNorm2d(128, eps=1e-05, momentum=0.1, affine=True, track_running_stats=True)\n",
              "      (relu): ReLU(inplace=True)\n",
              "      (conv2): Conv2d(128, 128, kernel_size=(3, 3), stride=(1, 1), padding=(1, 1), bias=False)\n",
              "      (bn2): BatchNorm2d(128, eps=1e-05, momentum=0.1, affine=True, track_running_stats=True)\n",
              "      (downsample): Sequential(\n",
              "        (0): Conv2d(64, 128, kernel_size=(1, 1), stride=(2, 2), bias=False)\n",
              "        (1): BatchNorm2d(128, eps=1e-05, momentum=0.1, affine=True, track_running_stats=True)\n",
              "      )\n",
              "    )\n",
              "    (1): BasicBlock(\n",
              "      (conv1): Conv2d(128, 128, kernel_size=(3, 3), stride=(1, 1), padding=(1, 1), bias=False)\n",
              "      (bn1): BatchNorm2d(128, eps=1e-05, momentum=0.1, affine=True, track_running_stats=True)\n",
              "      (relu): ReLU(inplace=True)\n",
              "      (conv2): Conv2d(128, 128, kernel_size=(3, 3), stride=(1, 1), padding=(1, 1), bias=False)\n",
              "      (bn2): BatchNorm2d(128, eps=1e-05, momentum=0.1, affine=True, track_running_stats=True)\n",
              "    )\n",
              "  )\n",
              "  (6): Sequential(\n",
              "    (0): BasicBlock(\n",
              "      (conv1): Conv2d(128, 256, kernel_size=(3, 3), stride=(2, 2), padding=(1, 1), bias=False)\n",
              "      (bn1): BatchNorm2d(256, eps=1e-05, momentum=0.1, affine=True, track_running_stats=True)\n",
              "      (relu): ReLU(inplace=True)\n",
              "      (conv2): Conv2d(256, 256, kernel_size=(3, 3), stride=(1, 1), padding=(1, 1), bias=False)\n",
              "      (bn2): BatchNorm2d(256, eps=1e-05, momentum=0.1, affine=True, track_running_stats=True)\n",
              "      (downsample): Sequential(\n",
              "        (0): Conv2d(128, 256, kernel_size=(1, 1), stride=(2, 2), bias=False)\n",
              "        (1): BatchNorm2d(256, eps=1e-05, momentum=0.1, affine=True, track_running_stats=True)\n",
              "      )\n",
              "    )\n",
              "    (1): BasicBlock(\n",
              "      (conv1): Conv2d(256, 256, kernel_size=(3, 3), stride=(1, 1), padding=(1, 1), bias=False)\n",
              "      (bn1): BatchNorm2d(256, eps=1e-05, momentum=0.1, affine=True, track_running_stats=True)\n",
              "      (relu): ReLU(inplace=True)\n",
              "      (conv2): Conv2d(256, 256, kernel_size=(3, 3), stride=(1, 1), padding=(1, 1), bias=False)\n",
              "      (bn2): BatchNorm2d(256, eps=1e-05, momentum=0.1, affine=True, track_running_stats=True)\n",
              "    )\n",
              "  )\n",
              "  (7): Sequential(\n",
              "    (0): BasicBlock(\n",
              "      (conv1): Conv2d(256, 512, kernel_size=(3, 3), stride=(2, 2), padding=(1, 1), bias=False)\n",
              "      (bn1): BatchNorm2d(512, eps=1e-05, momentum=0.1, affine=True, track_running_stats=True)\n",
              "      (relu): ReLU(inplace=True)\n",
              "      (conv2): Conv2d(512, 512, kernel_size=(3, 3), stride=(1, 1), padding=(1, 1), bias=False)\n",
              "      (bn2): BatchNorm2d(512, eps=1e-05, momentum=0.1, affine=True, track_running_stats=True)\n",
              "      (downsample): Sequential(\n",
              "        (0): Conv2d(256, 512, kernel_size=(1, 1), stride=(2, 2), bias=False)\n",
              "        (1): BatchNorm2d(512, eps=1e-05, momentum=0.1, affine=True, track_running_stats=True)\n",
              "      )\n",
              "    )\n",
              "    (1): BasicBlock(\n",
              "      (conv1): Conv2d(512, 512, kernel_size=(3, 3), stride=(1, 1), padding=(1, 1), bias=False)\n",
              "      (bn1): BatchNorm2d(512, eps=1e-05, momentum=0.1, affine=True, track_running_stats=True)\n",
              "      (relu): ReLU(inplace=True)\n",
              "      (conv2): Conv2d(512, 512, kernel_size=(3, 3), stride=(1, 1), padding=(1, 1), bias=False)\n",
              "      (bn2): BatchNorm2d(512, eps=1e-05, momentum=0.1, affine=True, track_running_stats=True)\n",
              "    )\n",
              "  )\n",
              "  (8): AdaptiveAvgPool2d(output_size=(1, 1))\n",
              ")"
            ]
          },
          "metadata": {},
          "execution_count": 17
        }
      ]
    },
    {
      "cell_type": "code",
      "source": [
        "# Testing on a single image\n",
        "img1 = pt.unsqueeze(img,dim=0) # adding one extra dimension of batch size\n",
        "img1 = model1(img1).squeeze()\n",
        "type(img1)\n",
        "img1.size()\n",
        "#temp=img1.detach().numpy()"
      ],
      "metadata": {
        "colab": {
          "base_uri": "https://localhost:8080/"
        },
        "id": "WE4SKTsKLfeK",
        "outputId": "a4a2339d-12cb-4910-a97b-96b1f243b334"
      },
      "execution_count": null,
      "outputs": [
        {
          "output_type": "execute_result",
          "data": {
            "text/plain": [
              "torch.Size([512])"
            ]
          },
          "metadata": {},
          "execution_count": 18
        }
      ]
    },
    {
      "cell_type": "markdown",
      "source": [
        "## Extracting Features"
      ],
      "metadata": {
        "id": "l-PUpJ6xnlRH"
      }
    },
    {
      "cell_type": "markdown",
      "source": [
        "Extracting features from train dataset and making a numpy array of train dataset"
      ],
      "metadata": {
        "id": "kkQBX4AXeT2T"
      }
    },
    {
      "cell_type": "code",
      "source": [
        "flag=0;\n",
        "for imgs,labels in train_dataloader:\n",
        "  temp = model1(imgs).squeeze()\n",
        "  temp =temp.detach().numpy()\n",
        "  tmp2= labels.detach().numpy()\n",
        "  if flag==0:\n",
        "    x_train = temp\n",
        "    y_train = tmp2\n",
        "    flag=1\n",
        "  else:\n",
        "    x_train = np.row_stack((x_train,temp))\n",
        "    y_train = np.row_stack((y_train,tmp2))\n",
        "\n"
      ],
      "metadata": {
        "id": "UutyCpTzdHZw"
      },
      "execution_count": null,
      "outputs": []
    },
    {
      "cell_type": "markdown",
      "source": [
        "Extracting features from test dataset and making a numpy array of test dataset"
      ],
      "metadata": {
        "id": "soH_0p7yfsKr"
      }
    },
    {
      "cell_type": "code",
      "source": [
        "flag=0\n",
        "for imgs,labels in test_dataloader:\n",
        "  temp = model1(imgs).squeeze()\n",
        "  temp =temp.detach().numpy()\n",
        "  tmp2= labels.detach().numpy()\n",
        "  if flag==0:\n",
        "    x_test = temp\n",
        "    y_test = tmp2\n",
        "    flag=1\n",
        "  else:\n",
        "    x_test = np.row_stack((x_test,temp))\n",
        "    y_test = np.row_stack((y_test,tmp2))"
      ],
      "metadata": {
        "id": "kBU28OPmlf8q"
      },
      "execution_count": null,
      "outputs": []
    },
    {
      "cell_type": "code",
      "source": [
        "x_train.shape"
      ],
      "metadata": {
        "id": "OPGBqWjbkbwW",
        "colab": {
          "base_uri": "https://localhost:8080/"
        },
        "outputId": "0bb0690b-378f-46d2-a0b0-b32d42d1eb1b"
      },
      "execution_count": null,
      "outputs": [
        {
          "output_type": "execute_result",
          "data": {
            "text/plain": [
              "(532, 512)"
            ]
          },
          "metadata": {},
          "execution_count": 42
        }
      ]
    },
    {
      "cell_type": "code",
      "source": [
        "y_test.shape"
      ],
      "metadata": {
        "id": "rc51thMamBGw",
        "colab": {
          "base_uri": "https://localhost:8080/"
        },
        "outputId": "fb222f99-844c-41b9-e481-5a8e7dbea15f"
      },
      "execution_count": null,
      "outputs": [
        {
          "output_type": "execute_result",
          "data": {
            "text/plain": [
              "(120, 1)"
            ]
          },
          "metadata": {},
          "execution_count": 43
        }
      ]
    },
    {
      "cell_type": "code",
      "source": [
        "y_train=y_train.reshape(-1)"
      ],
      "metadata": {
        "id": "ww433sZXhEY2"
      },
      "execution_count": null,
      "outputs": []
    },
    {
      "cell_type": "markdown",
      "source": [
        "## Training KNN"
      ],
      "metadata": {
        "id": "y0PweSY3n-Df"
      }
    },
    {
      "cell_type": "code",
      "source": [
        "knn = KNeighborsClassifier(n_neighbors=5)"
      ],
      "metadata": {
        "id": "OQYMrksTdHcx"
      },
      "execution_count": null,
      "outputs": []
    },
    {
      "cell_type": "code",
      "source": [
        "\n",
        "knn.fit(x_train, y_train)"
      ],
      "metadata": {
        "id": "7cVl76cWfczZ",
        "colab": {
          "base_uri": "https://localhost:8080/"
        },
        "outputId": "125b6976-12ed-46d2-e5f3-a31bc3535f41"
      },
      "execution_count": null,
      "outputs": [
        {
          "output_type": "execute_result",
          "data": {
            "text/plain": [
              "KNeighborsClassifier()"
            ]
          },
          "metadata": {},
          "execution_count": 46
        }
      ]
    },
    {
      "cell_type": "code",
      "source": [
        "y_pred = knn.predict(x_test)"
      ],
      "metadata": {
        "id": "G4w0ha3Nmed2"
      },
      "execution_count": null,
      "outputs": []
    },
    {
      "cell_type": "code",
      "source": [
        "from sklearn.metrics import accuracy_score\n",
        "print(\"Accuracy: \", accuracy_score(y_test, y_pred))"
      ],
      "metadata": {
        "id": "MSrsn5TbmrAR",
        "colab": {
          "base_uri": "https://localhost:8080/"
        },
        "outputId": "f9e3c3b7-abe8-4d1b-c63d-5d9d8bbf85de"
      },
      "execution_count": null,
      "outputs": [
        {
          "output_type": "stream",
          "name": "stdout",
          "text": [
            "Accuracy:  0.9166666666666666\n"
          ]
        }
      ]
    },
    {
      "cell_type": "markdown",
      "source": [
        "# Q2_b"
      ],
      "metadata": {
        "id": "bLR3-8X2Dfm_"
      }
    },
    {
      "cell_type": "markdown",
      "source": [
        "reinitialising my dataloader with different batch size"
      ],
      "metadata": {
        "id": "vqghRDQSkiOm"
      }
    },
    {
      "cell_type": "code",
      "source": [
        "train_dataloader = DataLoader(dataset = train_data,batch_size=64,shuffle=True)\n",
        "test_dataloader = DataLoader(dataset = test_data,batch_size=1,shuffle=False)"
      ],
      "metadata": {
        "id": "8o-nbKjzke6a"
      },
      "execution_count": null,
      "outputs": []
    },
    {
      "cell_type": "markdown",
      "source": [
        "## Model initialisation"
      ],
      "metadata": {
        "id": "4i4gky9At8nA"
      }
    },
    {
      "cell_type": "code",
      "source": [
        "weights = torchvision.models.ResNet18_Weights.DEFAULT\n",
        "model = torchvision.models.resnet18(weights=weights)"
      ],
      "metadata": {
        "id": "L3XKCKbjr1ar"
      },
      "execution_count": null,
      "outputs": []
    },
    {
      "cell_type": "code",
      "source": [
        "model #Pre trained model "
      ],
      "metadata": {
        "colab": {
          "base_uri": "https://localhost:8080/"
        },
        "id": "WYl0o73yyCrN",
        "outputId": "841aa732-45f0-4d77-a447-959348b881ee"
      },
      "execution_count": null,
      "outputs": [
        {
          "output_type": "execute_result",
          "data": {
            "text/plain": [
              "ResNet(\n",
              "  (conv1): Conv2d(3, 64, kernel_size=(7, 7), stride=(2, 2), padding=(3, 3), bias=False)\n",
              "  (bn1): BatchNorm2d(64, eps=1e-05, momentum=0.1, affine=True, track_running_stats=True)\n",
              "  (relu): ReLU(inplace=True)\n",
              "  (maxpool): MaxPool2d(kernel_size=3, stride=2, padding=1, dilation=1, ceil_mode=False)\n",
              "  (layer1): Sequential(\n",
              "    (0): BasicBlock(\n",
              "      (conv1): Conv2d(64, 64, kernel_size=(3, 3), stride=(1, 1), padding=(1, 1), bias=False)\n",
              "      (bn1): BatchNorm2d(64, eps=1e-05, momentum=0.1, affine=True, track_running_stats=True)\n",
              "      (relu): ReLU(inplace=True)\n",
              "      (conv2): Conv2d(64, 64, kernel_size=(3, 3), stride=(1, 1), padding=(1, 1), bias=False)\n",
              "      (bn2): BatchNorm2d(64, eps=1e-05, momentum=0.1, affine=True, track_running_stats=True)\n",
              "    )\n",
              "    (1): BasicBlock(\n",
              "      (conv1): Conv2d(64, 64, kernel_size=(3, 3), stride=(1, 1), padding=(1, 1), bias=False)\n",
              "      (bn1): BatchNorm2d(64, eps=1e-05, momentum=0.1, affine=True, track_running_stats=True)\n",
              "      (relu): ReLU(inplace=True)\n",
              "      (conv2): Conv2d(64, 64, kernel_size=(3, 3), stride=(1, 1), padding=(1, 1), bias=False)\n",
              "      (bn2): BatchNorm2d(64, eps=1e-05, momentum=0.1, affine=True, track_running_stats=True)\n",
              "    )\n",
              "  )\n",
              "  (layer2): Sequential(\n",
              "    (0): BasicBlock(\n",
              "      (conv1): Conv2d(64, 128, kernel_size=(3, 3), stride=(2, 2), padding=(1, 1), bias=False)\n",
              "      (bn1): BatchNorm2d(128, eps=1e-05, momentum=0.1, affine=True, track_running_stats=True)\n",
              "      (relu): ReLU(inplace=True)\n",
              "      (conv2): Conv2d(128, 128, kernel_size=(3, 3), stride=(1, 1), padding=(1, 1), bias=False)\n",
              "      (bn2): BatchNorm2d(128, eps=1e-05, momentum=0.1, affine=True, track_running_stats=True)\n",
              "      (downsample): Sequential(\n",
              "        (0): Conv2d(64, 128, kernel_size=(1, 1), stride=(2, 2), bias=False)\n",
              "        (1): BatchNorm2d(128, eps=1e-05, momentum=0.1, affine=True, track_running_stats=True)\n",
              "      )\n",
              "    )\n",
              "    (1): BasicBlock(\n",
              "      (conv1): Conv2d(128, 128, kernel_size=(3, 3), stride=(1, 1), padding=(1, 1), bias=False)\n",
              "      (bn1): BatchNorm2d(128, eps=1e-05, momentum=0.1, affine=True, track_running_stats=True)\n",
              "      (relu): ReLU(inplace=True)\n",
              "      (conv2): Conv2d(128, 128, kernel_size=(3, 3), stride=(1, 1), padding=(1, 1), bias=False)\n",
              "      (bn2): BatchNorm2d(128, eps=1e-05, momentum=0.1, affine=True, track_running_stats=True)\n",
              "    )\n",
              "  )\n",
              "  (layer3): Sequential(\n",
              "    (0): BasicBlock(\n",
              "      (conv1): Conv2d(128, 256, kernel_size=(3, 3), stride=(2, 2), padding=(1, 1), bias=False)\n",
              "      (bn1): BatchNorm2d(256, eps=1e-05, momentum=0.1, affine=True, track_running_stats=True)\n",
              "      (relu): ReLU(inplace=True)\n",
              "      (conv2): Conv2d(256, 256, kernel_size=(3, 3), stride=(1, 1), padding=(1, 1), bias=False)\n",
              "      (bn2): BatchNorm2d(256, eps=1e-05, momentum=0.1, affine=True, track_running_stats=True)\n",
              "      (downsample): Sequential(\n",
              "        (0): Conv2d(128, 256, kernel_size=(1, 1), stride=(2, 2), bias=False)\n",
              "        (1): BatchNorm2d(256, eps=1e-05, momentum=0.1, affine=True, track_running_stats=True)\n",
              "      )\n",
              "    )\n",
              "    (1): BasicBlock(\n",
              "      (conv1): Conv2d(256, 256, kernel_size=(3, 3), stride=(1, 1), padding=(1, 1), bias=False)\n",
              "      (bn1): BatchNorm2d(256, eps=1e-05, momentum=0.1, affine=True, track_running_stats=True)\n",
              "      (relu): ReLU(inplace=True)\n",
              "      (conv2): Conv2d(256, 256, kernel_size=(3, 3), stride=(1, 1), padding=(1, 1), bias=False)\n",
              "      (bn2): BatchNorm2d(256, eps=1e-05, momentum=0.1, affine=True, track_running_stats=True)\n",
              "    )\n",
              "  )\n",
              "  (layer4): Sequential(\n",
              "    (0): BasicBlock(\n",
              "      (conv1): Conv2d(256, 512, kernel_size=(3, 3), stride=(2, 2), padding=(1, 1), bias=False)\n",
              "      (bn1): BatchNorm2d(512, eps=1e-05, momentum=0.1, affine=True, track_running_stats=True)\n",
              "      (relu): ReLU(inplace=True)\n",
              "      (conv2): Conv2d(512, 512, kernel_size=(3, 3), stride=(1, 1), padding=(1, 1), bias=False)\n",
              "      (bn2): BatchNorm2d(512, eps=1e-05, momentum=0.1, affine=True, track_running_stats=True)\n",
              "      (downsample): Sequential(\n",
              "        (0): Conv2d(256, 512, kernel_size=(1, 1), stride=(2, 2), bias=False)\n",
              "        (1): BatchNorm2d(512, eps=1e-05, momentum=0.1, affine=True, track_running_stats=True)\n",
              "      )\n",
              "    )\n",
              "    (1): BasicBlock(\n",
              "      (conv1): Conv2d(512, 512, kernel_size=(3, 3), stride=(1, 1), padding=(1, 1), bias=False)\n",
              "      (bn1): BatchNorm2d(512, eps=1e-05, momentum=0.1, affine=True, track_running_stats=True)\n",
              "      (relu): ReLU(inplace=True)\n",
              "      (conv2): Conv2d(512, 512, kernel_size=(3, 3), stride=(1, 1), padding=(1, 1), bias=False)\n",
              "      (bn2): BatchNorm2d(512, eps=1e-05, momentum=0.1, affine=True, track_running_stats=True)\n",
              "    )\n",
              "  )\n",
              "  (avgpool): AdaptiveAvgPool2d(output_size=(1, 1))\n",
              "  (fc): Linear(in_features=512, out_features=1000, bias=True)\n",
              ")"
            ]
          },
          "metadata": {},
          "execution_count": 23
        }
      ]
    },
    {
      "cell_type": "code",
      "source": [
        "summary(model,col_names=[\"num_params\", \"trainable\"])"
      ],
      "metadata": {
        "id": "o6MP9hMLwle1",
        "colab": {
          "base_uri": "https://localhost:8080/"
        },
        "outputId": "ba0e6d62-6787-4f24-d95a-5ae4248079ec"
      },
      "execution_count": null,
      "outputs": [
        {
          "output_type": "execute_result",
          "data": {
            "text/plain": [
              "==========================================================================================\n",
              "Layer (type:depth-idx)                   Param #                   Trainable\n",
              "==========================================================================================\n",
              "ResNet                                   --                        True\n",
              "├─Conv2d: 1-1                            9,408                     True\n",
              "├─BatchNorm2d: 1-2                       128                       True\n",
              "├─ReLU: 1-3                              --                        --\n",
              "├─MaxPool2d: 1-4                         --                        --\n",
              "├─Sequential: 1-5                        --                        True\n",
              "│    └─BasicBlock: 2-1                   --                        True\n",
              "│    │    └─Conv2d: 3-1                  36,864                    True\n",
              "│    │    └─BatchNorm2d: 3-2             128                       True\n",
              "│    │    └─ReLU: 3-3                    --                        --\n",
              "│    │    └─Conv2d: 3-4                  36,864                    True\n",
              "│    │    └─BatchNorm2d: 3-5             128                       True\n",
              "│    └─BasicBlock: 2-2                   --                        True\n",
              "│    │    └─Conv2d: 3-6                  36,864                    True\n",
              "│    │    └─BatchNorm2d: 3-7             128                       True\n",
              "│    │    └─ReLU: 3-8                    --                        --\n",
              "│    │    └─Conv2d: 3-9                  36,864                    True\n",
              "│    │    └─BatchNorm2d: 3-10            128                       True\n",
              "├─Sequential: 1-6                        --                        True\n",
              "│    └─BasicBlock: 2-3                   --                        True\n",
              "│    │    └─Conv2d: 3-11                 73,728                    True\n",
              "│    │    └─BatchNorm2d: 3-12            256                       True\n",
              "│    │    └─ReLU: 3-13                   --                        --\n",
              "│    │    └─Conv2d: 3-14                 147,456                   True\n",
              "│    │    └─BatchNorm2d: 3-15            256                       True\n",
              "│    │    └─Sequential: 3-16             8,448                     True\n",
              "│    └─BasicBlock: 2-4                   --                        True\n",
              "│    │    └─Conv2d: 3-17                 147,456                   True\n",
              "│    │    └─BatchNorm2d: 3-18            256                       True\n",
              "│    │    └─ReLU: 3-19                   --                        --\n",
              "│    │    └─Conv2d: 3-20                 147,456                   True\n",
              "│    │    └─BatchNorm2d: 3-21            256                       True\n",
              "├─Sequential: 1-7                        --                        True\n",
              "│    └─BasicBlock: 2-5                   --                        True\n",
              "│    │    └─Conv2d: 3-22                 294,912                   True\n",
              "│    │    └─BatchNorm2d: 3-23            512                       True\n",
              "│    │    └─ReLU: 3-24                   --                        --\n",
              "│    │    └─Conv2d: 3-25                 589,824                   True\n",
              "│    │    └─BatchNorm2d: 3-26            512                       True\n",
              "│    │    └─Sequential: 3-27             33,280                    True\n",
              "│    └─BasicBlock: 2-6                   --                        True\n",
              "│    │    └─Conv2d: 3-28                 589,824                   True\n",
              "│    │    └─BatchNorm2d: 3-29            512                       True\n",
              "│    │    └─ReLU: 3-30                   --                        --\n",
              "│    │    └─Conv2d: 3-31                 589,824                   True\n",
              "│    │    └─BatchNorm2d: 3-32            512                       True\n",
              "├─Sequential: 1-8                        --                        True\n",
              "│    └─BasicBlock: 2-7                   --                        True\n",
              "│    │    └─Conv2d: 3-33                 1,179,648                 True\n",
              "│    │    └─BatchNorm2d: 3-34            1,024                     True\n",
              "│    │    └─ReLU: 3-35                   --                        --\n",
              "│    │    └─Conv2d: 3-36                 2,359,296                 True\n",
              "│    │    └─BatchNorm2d: 3-37            1,024                     True\n",
              "│    │    └─Sequential: 3-38             132,096                   True\n",
              "│    └─BasicBlock: 2-8                   --                        True\n",
              "│    │    └─Conv2d: 3-39                 2,359,296                 True\n",
              "│    │    └─BatchNorm2d: 3-40            1,024                     True\n",
              "│    │    └─ReLU: 3-41                   --                        --\n",
              "│    │    └─Conv2d: 3-42                 2,359,296                 True\n",
              "│    │    └─BatchNorm2d: 3-43            1,024                     True\n",
              "├─AdaptiveAvgPool2d: 1-9                 --                        --\n",
              "├─Linear: 1-10                           513,000                   True\n",
              "==========================================================================================\n",
              "Total params: 11,689,512\n",
              "Trainable params: 11,689,512\n",
              "Non-trainable params: 0\n",
              "=========================================================================================="
            ]
          },
          "metadata": {},
          "execution_count": 24
        }
      ]
    },
    {
      "cell_type": "code",
      "source": [
        "# Freezing weights of layers\n",
        "for param in model.parameters():\n",
        "     param.requires_grad=False"
      ],
      "metadata": {
        "id": "eYhDwhhv4prI"
      },
      "execution_count": null,
      "outputs": []
    },
    {
      "cell_type": "code",
      "source": [
        "model.fc"
      ],
      "metadata": {
        "colab": {
          "base_uri": "https://localhost:8080/"
        },
        "id": "xs4cUori1-4R",
        "outputId": "521465af-508a-4a50-d5d6-928fb5b7905e"
      },
      "execution_count": null,
      "outputs": [
        {
          "output_type": "execute_result",
          "data": {
            "text/plain": [
              "Linear(in_features=512, out_features=1000, bias=True)"
            ]
          },
          "metadata": {},
          "execution_count": 26
        }
      ]
    },
    {
      "cell_type": "code",
      "source": [
        "# Changing last fc layer\n",
        "model.fc=nn.Linear(512,6)"
      ],
      "metadata": {
        "id": "v4qroKfZ0g7q"
      },
      "execution_count": null,
      "outputs": []
    },
    {
      "cell_type": "code",
      "source": [
        "model.fc"
      ],
      "metadata": {
        "colab": {
          "base_uri": "https://localhost:8080/"
        },
        "id": "l21yV_3p02iG",
        "outputId": "0dea12aa-98c8-4c17-e328-d0287775d1e3"
      },
      "execution_count": null,
      "outputs": [
        {
          "output_type": "execute_result",
          "data": {
            "text/plain": [
              "Linear(in_features=512, out_features=6, bias=True)"
            ]
          },
          "metadata": {},
          "execution_count": 28
        }
      ]
    },
    {
      "cell_type": "code",
      "source": [
        "summary(model,col_names=[\"num_params\", \"trainable\"])"
      ],
      "metadata": {
        "id": "5b_VzFsF2Mli",
        "colab": {
          "base_uri": "https://localhost:8080/"
        },
        "outputId": "48ade342-ccbf-4432-b0a2-22c3a1e20395"
      },
      "execution_count": null,
      "outputs": [
        {
          "output_type": "execute_result",
          "data": {
            "text/plain": [
              "==========================================================================================\n",
              "Layer (type:depth-idx)                   Param #                   Trainable\n",
              "==========================================================================================\n",
              "ResNet                                   --                        Partial\n",
              "├─Conv2d: 1-1                            (9,408)                   False\n",
              "├─BatchNorm2d: 1-2                       (128)                     False\n",
              "├─ReLU: 1-3                              --                        --\n",
              "├─MaxPool2d: 1-4                         --                        --\n",
              "├─Sequential: 1-5                        --                        False\n",
              "│    └─BasicBlock: 2-1                   --                        False\n",
              "│    │    └─Conv2d: 3-1                  (36,864)                  False\n",
              "│    │    └─BatchNorm2d: 3-2             (128)                     False\n",
              "│    │    └─ReLU: 3-3                    --                        --\n",
              "│    │    └─Conv2d: 3-4                  (36,864)                  False\n",
              "│    │    └─BatchNorm2d: 3-5             (128)                     False\n",
              "│    └─BasicBlock: 2-2                   --                        False\n",
              "│    │    └─Conv2d: 3-6                  (36,864)                  False\n",
              "│    │    └─BatchNorm2d: 3-7             (128)                     False\n",
              "│    │    └─ReLU: 3-8                    --                        --\n",
              "│    │    └─Conv2d: 3-9                  (36,864)                  False\n",
              "│    │    └─BatchNorm2d: 3-10            (128)                     False\n",
              "├─Sequential: 1-6                        --                        False\n",
              "│    └─BasicBlock: 2-3                   --                        False\n",
              "│    │    └─Conv2d: 3-11                 (73,728)                  False\n",
              "│    │    └─BatchNorm2d: 3-12            (256)                     False\n",
              "│    │    └─ReLU: 3-13                   --                        --\n",
              "│    │    └─Conv2d: 3-14                 (147,456)                 False\n",
              "│    │    └─BatchNorm2d: 3-15            (256)                     False\n",
              "│    │    └─Sequential: 3-16             (8,448)                   False\n",
              "│    └─BasicBlock: 2-4                   --                        False\n",
              "│    │    └─Conv2d: 3-17                 (147,456)                 False\n",
              "│    │    └─BatchNorm2d: 3-18            (256)                     False\n",
              "│    │    └─ReLU: 3-19                   --                        --\n",
              "│    │    └─Conv2d: 3-20                 (147,456)                 False\n",
              "│    │    └─BatchNorm2d: 3-21            (256)                     False\n",
              "├─Sequential: 1-7                        --                        False\n",
              "│    └─BasicBlock: 2-5                   --                        False\n",
              "│    │    └─Conv2d: 3-22                 (294,912)                 False\n",
              "│    │    └─BatchNorm2d: 3-23            (512)                     False\n",
              "│    │    └─ReLU: 3-24                   --                        --\n",
              "│    │    └─Conv2d: 3-25                 (589,824)                 False\n",
              "│    │    └─BatchNorm2d: 3-26            (512)                     False\n",
              "│    │    └─Sequential: 3-27             (33,280)                  False\n",
              "│    └─BasicBlock: 2-6                   --                        False\n",
              "│    │    └─Conv2d: 3-28                 (589,824)                 False\n",
              "│    │    └─BatchNorm2d: 3-29            (512)                     False\n",
              "│    │    └─ReLU: 3-30                   --                        --\n",
              "│    │    └─Conv2d: 3-31                 (589,824)                 False\n",
              "│    │    └─BatchNorm2d: 3-32            (512)                     False\n",
              "├─Sequential: 1-8                        --                        False\n",
              "│    └─BasicBlock: 2-7                   --                        False\n",
              "│    │    └─Conv2d: 3-33                 (1,179,648)               False\n",
              "│    │    └─BatchNorm2d: 3-34            (1,024)                   False\n",
              "│    │    └─ReLU: 3-35                   --                        --\n",
              "│    │    └─Conv2d: 3-36                 (2,359,296)               False\n",
              "│    │    └─BatchNorm2d: 3-37            (1,024)                   False\n",
              "│    │    └─Sequential: 3-38             (132,096)                 False\n",
              "│    └─BasicBlock: 2-8                   --                        False\n",
              "│    │    └─Conv2d: 3-39                 (2,359,296)               False\n",
              "│    │    └─BatchNorm2d: 3-40            (1,024)                   False\n",
              "│    │    └─ReLU: 3-41                   --                        --\n",
              "│    │    └─Conv2d: 3-42                 (2,359,296)               False\n",
              "│    │    └─BatchNorm2d: 3-43            (1,024)                   False\n",
              "├─AdaptiveAvgPool2d: 1-9                 --                        --\n",
              "├─Linear: 1-10                           3,078                     True\n",
              "==========================================================================================\n",
              "Total params: 11,179,590\n",
              "Trainable params: 3,078\n",
              "Non-trainable params: 11,176,512\n",
              "=========================================================================================="
            ]
          },
          "metadata": {},
          "execution_count": 29
        }
      ]
    },
    {
      "cell_type": "markdown",
      "source": [
        "## Training and Testing on Images"
      ],
      "metadata": {
        "id": "3PN4KI4742so"
      }
    },
    {
      "cell_type": "code",
      "source": [
        "loss_fun = nn.CrossEntropyLoss()\n",
        "optimizer = pt.optim.Adam(model.parameters(), lr=0.001)"
      ],
      "metadata": {
        "id": "na2TDH_xsfg1"
      },
      "execution_count": null,
      "outputs": []
    },
    {
      "cell_type": "markdown",
      "source": [
        "Training my model for 20 epochs"
      ],
      "metadata": {
        "id": "a2RKe0O9kuA5"
      }
    },
    {
      "cell_type": "code",
      "source": [
        "for epoch in range(0,20):\n",
        "  running_loss=0.0\n",
        "  for images,labels in train_dataloader:\n",
        "    out = model(images)\n",
        "    loss = loss_fun(out,labels)\n",
        "\n",
        "    optimizer.zero_grad()\n",
        "    loss.backward()\n",
        "    optimizer.step()\n",
        "    \n",
        "    running_loss = running_loss + loss.item();\n",
        "  print('epoch %d loss %.3f'%(epoch,running_loss/(epoch+1)))\n"
      ],
      "metadata": {
        "id": "z3a8iZ1a6I0F",
        "colab": {
          "base_uri": "https://localhost:8080/"
        },
        "outputId": "b9c1f0d4-94e4-4a05-c8ad-60b15e9e6c7c"
      },
      "execution_count": null,
      "outputs": [
        {
          "output_type": "stream",
          "name": "stdout",
          "text": [
            "epoch 0 loss 14.903\n",
            "epoch 1 loss 4.711\n",
            "epoch 2 loss 2.085\n",
            "epoch 3 loss 1.101\n",
            "epoch 4 loss 0.688\n",
            "epoch 5 loss 0.483\n",
            "epoch 6 loss 0.349\n",
            "epoch 7 loss 0.279\n",
            "epoch 8 loss 0.217\n",
            "epoch 9 loss 0.176\n",
            "epoch 10 loss 0.156\n",
            "epoch 11 loss 0.125\n",
            "epoch 12 loss 0.105\n",
            "epoch 13 loss 0.095\n",
            "epoch 14 loss 0.083\n",
            "epoch 15 loss 0.067\n",
            "epoch 16 loss 0.063\n",
            "epoch 17 loss 0.057\n",
            "epoch 18 loss 0.057\n",
            "epoch 19 loss 0.049\n"
          ]
        }
      ]
    },
    {
      "cell_type": "code",
      "source": [
        "# Bringing it to evaluation mode\n",
        "model.eval()\n",
        "# Testing on a single image\n",
        "for images,labels in test_dataloader:\n",
        "  print(type(model(images)))\n",
        "  break;"
      ],
      "metadata": {
        "colab": {
          "base_uri": "https://localhost:8080/"
        },
        "id": "aUQVp-qomVTE",
        "outputId": "0bfa0ed4-8660-4fc0-f6c1-6ef8975378f8"
      },
      "execution_count": null,
      "outputs": [
        {
          "output_type": "stream",
          "name": "stdout",
          "text": [
            "<class 'torch.Tensor'>\n"
          ]
        }
      ]
    },
    {
      "cell_type": "code",
      "source": [
        "# Testing on test dataset\n",
        "count=0\n",
        "total=0\n",
        "for imgs,labels in test_dataloader:\n",
        "  output = model(imgs)\n",
        "  ans = pt.argmax(output)\n",
        "  #print(out,labels,ans)\n",
        "  if ans == labels :\n",
        "    count = count+1\n",
        "  total=total+1"
      ],
      "metadata": {
        "id": "X8YtQEJyRAiD"
      },
      "execution_count": null,
      "outputs": []
    },
    {
      "cell_type": "code",
      "source": [
        "print('The percentage accuracy is')\n",
        "print(count/total *100)"
      ],
      "metadata": {
        "colab": {
          "base_uri": "https://localhost:8080/"
        },
        "id": "-w1fNknIqoBZ",
        "outputId": "254ed387-7d51-4f0b-b7c4-8ce5b21dff7c"
      },
      "execution_count": null,
      "outputs": [
        {
          "output_type": "stream",
          "name": "stdout",
          "text": [
            "The percentage accuracy is\n",
            "95.0\n"
          ]
        }
      ]
    },
    {
      "cell_type": "markdown",
      "source": [
        "# Q2_c"
      ],
      "metadata": {
        "id": "7N0nV6oJrm8R"
      }
    },
    {
      "cell_type": "code",
      "source": [
        "train_dataloader = DataLoader(dataset = train_data,batch_size=64,shuffle=True)\n",
        "test_dataloader = DataLoader(dataset = test_data,batch_size=1,shuffle=False)"
      ],
      "metadata": {
        "id": "S-NSnrzKMp_u"
      },
      "execution_count": null,
      "outputs": []
    },
    {
      "cell_type": "code",
      "source": [
        "class simple_model(nn.Module):\n",
        "  def __init__(self):\n",
        "    super(simple_model,self).__init__()\n",
        "    self.layer1 = nn.Flatten()\n",
        "    self.layer2 = nn.Linear(150528,6)\n",
        "  def forward(self,x):\n",
        "    x=self.layer1(x)\n",
        "    x=self.layer2(x)\n",
        "    return(x)\n"
      ],
      "metadata": {
        "id": "t-7rNBR2rokP"
      },
      "execution_count": null,
      "outputs": []
    },
    {
      "cell_type": "code",
      "source": [
        "model3 = simple_model()"
      ],
      "metadata": {
        "id": "b5T4QheV5ykY"
      },
      "execution_count": null,
      "outputs": []
    },
    {
      "cell_type": "code",
      "source": [
        "loss_fun = nn.CrossEntropyLoss()\n",
        "optimizer = pt.optim.Adam(model3.parameters(), lr=0.001)"
      ],
      "metadata": {
        "id": "sX9tSce84FWW"
      },
      "execution_count": null,
      "outputs": []
    },
    {
      "cell_type": "markdown",
      "source": [
        "Training my simple network"
      ],
      "metadata": {
        "id": "uxrrIKVEyP9z"
      }
    },
    {
      "cell_type": "code",
      "source": [
        "for epoch in range(0,20):\n",
        "  running_loss=0.0\n",
        "  for images,labels in train_dataloader:\n",
        "    #print(images.shape)\n",
        "    out = model3(images)\n",
        "    loss = loss_fun(out,labels)\n",
        "\n",
        "    optimizer.zero_grad()\n",
        "    loss.backward()\n",
        "    optimizer.step()\n",
        "    \n",
        "    running_loss = running_loss + loss.item();\n",
        "  print('epoch %d loss %.3f'%(epoch,running_loss/(epoch+1)))"
      ],
      "metadata": {
        "colab": {
          "base_uri": "https://localhost:8080/"
        },
        "id": "dUMSVkHF4VsI",
        "outputId": "8a8753e5-f121-46a6-9cd6-c3da71d62571"
      },
      "execution_count": null,
      "outputs": [
        {
          "output_type": "stream",
          "name": "stdout",
          "text": [
            "epoch 0 loss 462.625\n",
            "epoch 1 loss 154.181\n",
            "epoch 2 loss 72.376\n",
            "epoch 3 loss 43.484\n",
            "epoch 4 loss 22.141\n",
            "epoch 5 loss 13.067\n",
            "epoch 6 loss 6.856\n",
            "epoch 7 loss 6.536\n",
            "epoch 8 loss 7.613\n",
            "epoch 9 loss 6.072\n",
            "epoch 10 loss 4.256\n",
            "epoch 11 loss 2.541\n",
            "epoch 12 loss 1.955\n",
            "epoch 13 loss 1.087\n",
            "epoch 14 loss 1.591\n",
            "epoch 15 loss 0.830\n",
            "epoch 16 loss 1.038\n",
            "epoch 17 loss 0.697\n",
            "epoch 18 loss 1.065\n",
            "epoch 19 loss 1.123\n"
          ]
        }
      ]
    },
    {
      "cell_type": "code",
      "source": [
        "#model in evaluation mode\n",
        "model3.eval()"
      ],
      "metadata": {
        "colab": {
          "base_uri": "https://localhost:8080/"
        },
        "id": "x0NEuLBLM8V7",
        "outputId": "44e2613b-2a81-4661-c725-d63b0e1bf161"
      },
      "execution_count": null,
      "outputs": [
        {
          "output_type": "execute_result",
          "data": {
            "text/plain": [
              "simple_model(\n",
              "  (layer1): Flatten(start_dim=1, end_dim=-1)\n",
              "  (layer2): Linear(in_features=150528, out_features=6, bias=True)\n",
              ")"
            ]
          },
          "metadata": {},
          "execution_count": 58
        }
      ]
    },
    {
      "cell_type": "code",
      "source": [
        "# Testing on test dataset\n",
        "count=0\n",
        "total=0\n",
        "for imgs,labels in test_dataloader:\n",
        "  output = model3(imgs)\n",
        "  ans = pt.argmax(output)\n",
        "  #print(out,labels,ans)\n",
        "  if ans == labels :\n",
        "    count = count+1\n",
        "  total=total+1"
      ],
      "metadata": {
        "id": "yJTMVoNdJTRD"
      },
      "execution_count": null,
      "outputs": []
    },
    {
      "cell_type": "code",
      "source": [
        "print('The percentage accuracy is')\n",
        "print(count/total *100)\n"
      ],
      "metadata": {
        "colab": {
          "base_uri": "https://localhost:8080/"
        },
        "id": "mNdiHRxs_Tqf",
        "outputId": "d9474ad6-1f47-4a89-a8da-d88b39f96946"
      },
      "execution_count": null,
      "outputs": [
        {
          "output_type": "stream",
          "name": "stdout",
          "text": [
            "The percentage accuracy is\n",
            "24.166666666666668\n"
          ]
        }
      ]
    },
    {
      "cell_type": "code",
      "source": [
        "# Calculating accuracy of training dataset\n",
        "train_evaluator = DataLoader(dataset = train_data,batch_size=1,shuffle=True)\n",
        "count=0\n",
        "total=0\n",
        "for imgs,labels in train_evaluator:\n",
        "  output = model3(imgs)\n",
        "  ans = pt.argmax(output)\n",
        "  #print(out,labels,ans)\n",
        "  if ans == labels :\n",
        "    count = count+1\n",
        "  total=total+1\n",
        "print('The percentage accuracy is')\n",
        "print(count/total *100)"
      ],
      "metadata": {
        "colab": {
          "base_uri": "https://localhost:8080/"
        },
        "id": "h51ab_13OkkL",
        "outputId": "b6ae8200-3c93-4f49-8907-991619b9c972"
      },
      "execution_count": null,
      "outputs": [
        {
          "output_type": "stream",
          "name": "stdout",
          "text": [
            "The percentage accuracy is\n",
            "70.11278195488721\n"
          ]
        }
      ]
    },
    {
      "cell_type": "code",
      "source": [],
      "metadata": {
        "id": "yL39liXuPUqE"
      },
      "execution_count": null,
      "outputs": []
    }
  ]
}