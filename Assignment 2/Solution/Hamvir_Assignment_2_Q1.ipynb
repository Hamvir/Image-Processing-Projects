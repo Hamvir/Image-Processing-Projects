{
  "nbformat": 4,
  "nbformat_minor": 0,
  "metadata": {
    "colab": {
      "provenance": [],
      "collapsed_sections": [
        "JqeV6gF54Owj",
        "z0of53Se4nNq",
        "Ek2bo3rB49OG",
        "TugU_Vp27IVx",
        "tsbiAGDQE_MV",
        "Dbnv6VLDIDSd",
        "YGxBEc0EIwVR",
        "lAH6H8zIJnDI",
        "xntSLAocJ5kq",
        "eWTN9dYoKm4L",
        "cN91DZKlLjlK",
        "1bbCvuHQMRRp",
        "Xuxww7TmMnr8",
        "Sl9jy5YsM5SZ",
        "Xea2TH_2738A",
        "LkzruIzE8P17",
        "I5Scp66V85Lg",
        "uwcfseDGBeW6",
        "M1HZ32pwDqz2",
        "SFyiDIpmEQCH"
      ]
    },
    "kernelspec": {
      "name": "python3",
      "display_name": "Python 3"
    },
    "language_info": {
      "name": "python"
    }
  },
  "cells": [
    {
      "cell_type": "code",
      "execution_count": null,
      "metadata": {
        "id": "IYor3IBG1ZHn"
      },
      "outputs": [],
      "source": [
        "import numpy as np\n",
        "import matplotlib.pyplot as plt\n",
        "from skimage import io,transform,color,util\n",
        "from math import exp\n",
        "import scipy as sc\n",
        "from scipy.sparse.linalg import eigsh"
      ]
    },
    {
      "cell_type": "code",
      "source": [
        "img =io.imread('/content/drive/MyDrive/test_images/test1.png')"
      ],
      "metadata": {
        "id": "cxub9bQk1h3u"
      },
      "execution_count": null,
      "outputs": []
    },
    {
      "cell_type": "code",
      "source": [
        "plt.imshow(img)\n"
      ],
      "metadata": {
        "colab": {
          "base_uri": "https://localhost:8080/",
          "height": 284
        },
        "id": "RyGPvoG31j1E",
        "outputId": "7068d6aa-a19b-42e8-cf39-278cd4f4c9c2"
      },
      "execution_count": null,
      "outputs": [
        {
          "output_type": "execute_result",
          "data": {
            "text/plain": [
              "<matplotlib.image.AxesImage at 0x7f63b590e550>"
            ]
          },
          "metadata": {},
          "execution_count": 3
        },
        {
          "output_type": "display_data",
          "data": {
            "text/plain": [
              "<Figure size 432x288 with 1 Axes>"
            ],
            "image/png": "[encoded data removed]"
          },
          "metadata": {
            "needs_background": "light"
          }
        }
      ]
    },
    {
      "cell_type": "code",
      "source": [],
      "metadata": {
        "id": "lX7K51Ay12xC"
      },
      "execution_count": null,
      "outputs": []
    },
    {
      "cell_type": "markdown",
      "source": [
        "# Brightness as measure"
      ],
      "metadata": {
        "id": "GrHi9HC914hg"
      }
    },
    {
      "cell_type": "code",
      "source": [
        "def brightness_measure(pix1,pix2): # Function to calculate brightness weight\n",
        "  sig_1 = 10\n",
        "  bright_pix1 = np.sum(pix1)/3\n",
        "  bright_pix2 = np.sum(pix2)/3\n",
        "  bright_measure  = abs(bright_pix1-bright_pix2)\n",
        "  weight = exp(-bright_measure/sig_1)\n",
        "  return(weight)"
      ],
      "metadata": {
        "id": "qPTp4E4h2BOS"
      },
      "execution_count": null,
      "outputs": []
    },
    {
      "cell_type": "markdown",
      "source": [
        "## For Image 1"
      ],
      "metadata": {
        "id": "eqvsN0Qx18Cy"
      }
    },
    {
      "cell_type": "code",
      "source": [
        "img =io.imread('/content/drive/MyDrive/test_images/test1.png')"
      ],
      "metadata": {
        "id": "2BTk228O2HAt"
      },
      "execution_count": null,
      "outputs": []
    },
    {
      "cell_type": "code",
      "source": [
        "height =img.shape[0]\n",
        "width = img.shape[1]\n",
        "depth = img.shape[2]\n",
        "flattened_img = img.reshape(height*width,depth)"
      ],
      "metadata": {
        "id": "tjN-3Fs52RUh"
      },
      "execution_count": null,
      "outputs": []
    },
    {
      "cell_type": "code",
      "source": [
        "len = flattened_img.shape[0]\n",
        "W = np.zeros((len,len)) # Weight matrix\n",
        "for i in range(0,len):\n",
        "  for j in range(0,i+1):\n",
        "    W[i][j]= brightness_measure(flattened_img[i],flattened_img[j])\n",
        "    W[j][i]=W[i][j]"
      ],
      "metadata": {
        "id": "teeA5Cts2Sxm"
      },
      "execution_count": null,
      "outputs": []
    },
    {
      "cell_type": "code",
      "source": [
        "D = np.zeros(W.shape) #Degree matrix\n",
        "for i in range(0,D.shape[0]):\n",
        "  D[i][i]=np.sum(W[i,:])"
      ],
      "metadata": {
        "id": "8mJ0c8gJ34EQ"
      },
      "execution_count": null,
      "outputs": []
    },
    {
      "cell_type": "code",
      "source": [
        "eigval,eigvec = eigsh(D-W, 2, M=D, sigma=None, which='SM') # Calculating Eigen value and eigen vector\n",
        "second_eig_vec = eigvec[:, 1] > 0\n",
        "out_img=second_eig_vec.reshape((height,width))\n",
        "plt.imshow(out_img,cmap='gray')"
      ],
      "metadata": {
        "colab": {
          "base_uri": "https://localhost:8080/",
          "height": 284
        },
        "id": "9dek1BwN4BtH",
        "outputId": "44526b85-322f-4997-eabc-c174a153ac93"
      },
      "execution_count": null,
      "outputs": [
        {
          "output_type": "execute_result",
          "data": {
            "text/plain": [
              "<matplotlib.image.AxesImage at 0x7f63af490af0>"
            ]
          },
          "metadata": {},
          "execution_count": 9
        },
        {
          "output_type": "display_data",
          "data": {
            "text/plain": [
              "<Figure size 432x288 with 1 Axes>"
            ],
            "image/png": "[encoded data removed]"
          },
          "metadata": {
            "needs_background": "light"
          }
        }
      ]
    },
    {
      "cell_type": "code",
      "source": [],
      "metadata": {
        "id": "i2ZTHETO4BwN"
      },
      "execution_count": null,
      "outputs": []
    },
    {
      "cell_type": "markdown",
      "source": [
        "## For image 2"
      ],
      "metadata": {
        "id": "JqeV6gF54Owj"
      }
    },
    {
      "cell_type": "code",
      "source": [
        "img1 =io.imread('/content/drive/MyDrive/test_images/test2.jpg')"
      ],
      "metadata": {
        "id": "09ka2ACt4QrP"
      },
      "execution_count": null,
      "outputs": []
    },
    {
      "cell_type": "code",
      "source": [
        "r=img1.shape[0]\n",
        "c=img1.shape[1]\n",
        "d=img1.shape[2]\n",
        "img = transform.resize(img1, (r/2, c/2, d), anti_aliasing=True)"
      ],
      "metadata": {
        "id": "qpz8eJbE4Slh"
      },
      "execution_count": null,
      "outputs": []
    },
    {
      "cell_type": "code",
      "source": [
        "io.imshow(img1)"
      ],
      "metadata": {
        "colab": {
          "base_uri": "https://localhost:8080/",
          "height": 314
        },
        "id": "o36F-rLraBr2",
        "outputId": "64e61b1b-4fa5-4ea9-9f29-de9a9f12eed8"
      },
      "execution_count": null,
      "outputs": [
        {
          "output_type": "execute_result",
          "data": {
            "text/plain": [
              "<matplotlib.image.AxesImage at 0x7f63b50db370>"
            ]
          },
          "metadata": {},
          "execution_count": 152
        },
        {
          "output_type": "display_data",
          "data": {
            "text/plain": [
              "<Figure size 432x288 with 1 Axes>"
            ],
            "image/png": "[encoded data removed]"
          },
          "metadata": {
            "needs_background": "light"
          }
        }
      ]
    },
    {
      "cell_type": "code",
      "source": [
        "height =img.shape[0]\n",
        "width = img.shape[1]\n",
        "depth = img.shape[2]\n",
        "flattened_img = img.reshape(height*width,depth)"
      ],
      "metadata": {
        "id": "RmR0Fwb64UCV"
      },
      "execution_count": null,
      "outputs": []
    },
    {
      "cell_type": "code",
      "source": [
        "len = flattened_img.shape[0]\n",
        "W = np.zeros((len,len)) # Weight matrix\n",
        "for i in range(0,len):\n",
        "  for j in range(0,i+1):\n",
        "    W[i][j]= brightness_measure(flattened_img[i],flattened_img[j])\n",
        "    W[j][i]=W[i][j]"
      ],
      "metadata": {
        "id": "qmV-XpwH4V_a"
      },
      "execution_count": null,
      "outputs": []
    },
    {
      "cell_type": "code",
      "source": [
        "D = np.zeros(W.shape) #Degree matrix\n",
        "for i in range(0,D.shape[0]):\n",
        "  D[i][i]=np.sum(W[i,:])"
      ],
      "metadata": {
        "id": "V_wrE8W84fBm"
      },
      "execution_count": null,
      "outputs": []
    },
    {
      "cell_type": "code",
      "source": [
        "eigval,eigvec = eigsh(D-W, 2, M=D, sigma=None, which='SM')\n",
        "second_eig_vec = eigvec[:, 1] > 0\n",
        "out_img=second_eig_vec.reshape((height,width))\n",
        "plt.imshow(out_img,cmap='gray')"
      ],
      "metadata": {
        "colab": {
          "base_uri": "https://localhost:8080/",
          "height": 285
        },
        "id": "nATslnw_4iUb",
        "outputId": "a7532ba0-9fde-48ee-8583-268778f4c7c6"
      },
      "execution_count": null,
      "outputs": [
        {
          "output_type": "execute_result",
          "data": {
            "text/plain": [
              "<matplotlib.image.AxesImage at 0x7f63b53dd130>"
            ]
          },
          "metadata": {},
          "execution_count": 15
        },
        {
          "output_type": "display_data",
          "data": {
            "text/plain": [
              "<Figure size 432x288 with 1 Axes>"
            ],
            "image/png": "[encoded data removed]"
          },
          "metadata": {
            "needs_background": "light"
          }
        }
      ]
    },
    {
      "cell_type": "code",
      "source": [],
      "metadata": {
        "id": "H7NziwPI4lhe"
      },
      "execution_count": null,
      "outputs": []
    },
    {
      "cell_type": "markdown",
      "source": [
        "## For Image 3"
      ],
      "metadata": {
        "id": "z0of53Se4nNq"
      }
    },
    {
      "cell_type": "code",
      "source": [
        "img1 =io.imread('/content/drive/MyDrive/test_images/test3.jpg')"
      ],
      "metadata": {
        "id": "K9itymBv4pIa"
      },
      "execution_count": null,
      "outputs": []
    },
    {
      "cell_type": "code",
      "source": [
        "r=img1.shape[0]\n",
        "c=img1.shape[1]\n",
        "d=img1.shape[2]\n",
        "img = transform.resize(img1, (r/10, c/10, d), anti_aliasing=True)"
      ],
      "metadata": {
        "id": "vFPY6Niz4sKd"
      },
      "execution_count": null,
      "outputs": []
    },
    {
      "cell_type": "code",
      "source": [
        "io.imshow(img)"
      ],
      "metadata": {
        "colab": {
          "base_uri": "https://localhost:8080/",
          "height": 314
        },
        "id": "mztfNLrk4uyV",
        "outputId": "c109e161-e433-4cf1-c623-c970eaf0724a"
      },
      "execution_count": null,
      "outputs": [
        {
          "output_type": "execute_result",
          "data": {
            "text/plain": [
              "<matplotlib.image.AxesImage at 0x7f63b53c7280>"
            ]
          },
          "metadata": {},
          "execution_count": 18
        },
        {
          "output_type": "display_data",
          "data": {
            "text/plain": [
              "<Figure size 432x288 with 1 Axes>"
            ],
            "image/png": "[encoded data removed]"
          },
          "metadata": {
            "needs_background": "light"
          }
        }
      ]
    },
    {
      "cell_type": "code",
      "source": [
        "height =img.shape[0]\n",
        "width = img.shape[1]\n",
        "depth = img.shape[2]\n",
        "flattened_img = img.reshape(height*width,depth)"
      ],
      "metadata": {
        "id": "GtztY9hf4u1K"
      },
      "execution_count": null,
      "outputs": []
    },
    {
      "cell_type": "code",
      "source": [
        "len = flattened_img.shape[0]\n",
        "W = np.zeros((len,len)) # Weight matrix\n",
        "for i in range(0,len):\n",
        "  for j in range(0,i+1):\n",
        "    W[i][j]= brightness_measure(flattened_img[i],flattened_img[j])\n",
        "    W[j][i]=W[i][j]"
      ],
      "metadata": {
        "id": "IuaY3fps40V-"
      },
      "execution_count": null,
      "outputs": []
    },
    {
      "cell_type": "code",
      "source": [
        "D = np.zeros(W.shape) #Degree matrix\n",
        "for i in range(0,D.shape[0]):\n",
        "  D[i][i]=np.sum(W[i,:])"
      ],
      "metadata": {
        "id": "It6F5OKq43xt"
      },
      "execution_count": null,
      "outputs": []
    },
    {
      "cell_type": "code",
      "source": [
        "eigval,eigvec = eigsh(D-W, 2, M=D, sigma=None, which='SM')\n",
        "second_eig_vec = eigvec[:, 1] > 0\n",
        "out_img=second_eig_vec.reshape((height,width))\n",
        "plt.imshow(out_img,cmap='gray')"
      ],
      "metadata": {
        "colab": {
          "base_uri": "https://localhost:8080/",
          "height": 283
        },
        "id": "rS7x53vk47Y2",
        "outputId": "67663f94-a7d5-4a8b-d854-3109c8e93060"
      },
      "execution_count": null,
      "outputs": [
        {
          "output_type": "execute_result",
          "data": {
            "text/plain": [
              "<matplotlib.image.AxesImage at 0x7f63b1984940>"
            ]
          },
          "metadata": {},
          "execution_count": 22
        },
        {
          "output_type": "display_data",
          "data": {
            "text/plain": [
              "<Figure size 432x288 with 1 Axes>"
            ],
            "image/png": "[encoded data removed]"
          },
          "metadata": {
            "needs_background": "light"
          }
        }
      ]
    },
    {
      "cell_type": "markdown",
      "source": [
        "## For Image 4"
      ],
      "metadata": {
        "id": "Ek2bo3rB49OG"
      }
    },
    {
      "cell_type": "code",
      "source": [
        "img1 =io.imread('/content/drive/MyDrive/test_images/test4.jpg')"
      ],
      "metadata": {
        "id": "zH9N14bd4_qj"
      },
      "execution_count": null,
      "outputs": []
    },
    {
      "cell_type": "code",
      "source": [
        "r=img1.shape[0]\n",
        "c=img1.shape[1]\n",
        "d=img1.shape[2]\n",
        "img = transform.resize(img1, (int(r/10), int(c/10), d), anti_aliasing=True)"
      ],
      "metadata": {
        "id": "QzWLIf3U5E68"
      },
      "execution_count": null,
      "outputs": []
    },
    {
      "cell_type": "code",
      "source": [
        "io.imshow(img)"
      ],
      "metadata": {
        "colab": {
          "base_uri": "https://localhost:8080/",
          "height": 314
        },
        "id": "xM1AhfiX5Pma",
        "outputId": "18de4de6-daf3-4a21-c641-f0d728f26c0b"
      },
      "execution_count": null,
      "outputs": [
        {
          "output_type": "execute_result",
          "data": {
            "text/plain": [
              "<matplotlib.image.AxesImage at 0x7f63b1962100>"
            ]
          },
          "metadata": {},
          "execution_count": 25
        },
        {
          "output_type": "display_data",
          "data": {
            "text/plain": [
              "<Figure size 432x288 with 1 Axes>"
            ],
            "image/png": "[encoded data removed]"
          },
          "metadata": {
            "needs_background": "light"
          }
        }
      ]
    },
    {
      "cell_type": "code",
      "source": [
        "height =img.shape[0]\n",
        "width = img.shape[1]\n",
        "depth = img.shape[2]\n",
        "flattened_img = img.reshape(height*width,depth)"
      ],
      "metadata": {
        "id": "hcKTz0o95gEk"
      },
      "execution_count": null,
      "outputs": []
    },
    {
      "cell_type": "code",
      "source": [
        "len = flattened_img.shape[0]\n",
        "W = np.zeros((len,len)) # Weight matrix\n",
        "for i in range(0,len):\n",
        "  for j in range(0,i+1):\n",
        "    W[i][j]= brightness_measure(flattened_img[i],flattened_img[j])\n",
        "    W[j][i]=W[i][j]"
      ],
      "metadata": {
        "id": "vCRJrEUn5gHR"
      },
      "execution_count": null,
      "outputs": []
    },
    {
      "cell_type": "code",
      "source": [
        "D = np.zeros(W.shape) #Degree matrix\n",
        "for i in range(0,D.shape[0]):\n",
        "  D[i][i]=np.sum(W[i,:])"
      ],
      "metadata": {
        "id": "34qXLse85nYW"
      },
      "execution_count": null,
      "outputs": []
    },
    {
      "cell_type": "code",
      "source": [
        "eigval,eigvec = eigsh(D-W, 2, M=D, sigma=None, which='SM')\n",
        "second_eig_vec = eigvec[:, 1] > 0\n",
        "out_img=second_eig_vec.reshape((height,width))\n",
        "plt.imshow(out_img,cmap='gray')"
      ],
      "metadata": {
        "colab": {
          "base_uri": "https://localhost:8080/",
          "height": 283
        },
        "id": "EKwTgpeU5o44",
        "outputId": "78852a50-05fb-4049-e2c2-1949ed956a94"
      },
      "execution_count": null,
      "outputs": [
        {
          "output_type": "execute_result",
          "data": {
            "text/plain": [
              "<matplotlib.image.AxesImage at 0x7f63b532f220>"
            ]
          },
          "metadata": {},
          "execution_count": 29
        },
        {
          "output_type": "display_data",
          "data": {
            "text/plain": [
              "<Figure size 432x288 with 1 Axes>"
            ],
            "image/png": "[encoded data removed]"
          },
          "metadata": {
            "needs_background": "light"
          }
        }
      ]
    },
    {
      "cell_type": "markdown",
      "source": [
        "## For Image 5"
      ],
      "metadata": {
        "id": "TugU_Vp27IVx"
      }
    },
    {
      "cell_type": "code",
      "source": [
        "img1 =io.imread('/content/drive/MyDrive/test_images/test5.jpg')"
      ],
      "metadata": {
        "id": "oAPYIyMq7S9m"
      },
      "execution_count": null,
      "outputs": []
    },
    {
      "cell_type": "code",
      "source": [
        "r=img1.shape[0]\n",
        "c=img1.shape[1]\n",
        "d=img1.shape[2]\n",
        "img = transform.resize(img1, (int(r/10), int(c/10), d), anti_aliasing=True)"
      ],
      "metadata": {
        "id": "t3w_Vd5G7Uc3"
      },
      "execution_count": null,
      "outputs": []
    },
    {
      "cell_type": "code",
      "source": [
        "io.imshow(img)"
      ],
      "metadata": {
        "colab": {
          "base_uri": "https://localhost:8080/",
          "height": 314
        },
        "id": "5HwDSu6w7rCd",
        "outputId": "a889cd03-10c0-4740-b1ad-48812785856c"
      },
      "execution_count": null,
      "outputs": [
        {
          "output_type": "execute_result",
          "data": {
            "text/plain": [
              "<matplotlib.image.AxesImage at 0x7f63b53073a0>"
            ]
          },
          "metadata": {},
          "execution_count": 32
        },
        {
          "output_type": "display_data",
          "data": {
            "text/plain": [
              "<Figure size 432x288 with 1 Axes>"
            ],
            "image/png": "[encoded data removed]"
          },
          "metadata": {
            "needs_background": "light"
          }
        }
      ]
    },
    {
      "cell_type": "code",
      "source": [
        "height =img.shape[0]\n",
        "width = img.shape[1]\n",
        "depth = img.shape[2]\n",
        "flattened_img = img.reshape(height*width,depth)"
      ],
      "metadata": {
        "id": "GmI8hhva7zft"
      },
      "execution_count": null,
      "outputs": []
    },
    {
      "cell_type": "code",
      "source": [
        "len = flattened_img.shape[0]\n",
        "W = np.zeros((len,len)) # Weight matrix\n",
        "for i in range(0,len):\n",
        "  for j in range(0,i+1):\n",
        "    W[i][j]= brightness_measure(flattened_img[i],flattened_img[j])\n",
        "    W[j][i]=W[i][j]"
      ],
      "metadata": {
        "id": "Q44zQTzj7WXv"
      },
      "execution_count": null,
      "outputs": []
    },
    {
      "cell_type": "code",
      "source": [
        "D = np.zeros(W.shape) #Degree matrix\n",
        "for i in range(0,D.shape[0]):\n",
        "  D[i][i]=np.sum(W[i,:])"
      ],
      "metadata": {
        "id": "UlBF6oR17YEa"
      },
      "execution_count": null,
      "outputs": []
    },
    {
      "cell_type": "code",
      "source": [
        "eigval,eigvec = eigsh(D-W, 2, M=D, sigma=None, which='SM')\n",
        "second_eig_vec = eigvec[:, 1] > 0\n",
        "out_img=second_eig_vec.reshape((height,width))\n",
        "plt.imshow(out_img,cmap='gray')"
      ],
      "metadata": {
        "colab": {
          "base_uri": "https://localhost:8080/",
          "height": 284
        },
        "id": "lusUsDwJ7aHR",
        "outputId": "01d80a83-6c91-4c83-a6b5-4d83b5e69ab2"
      },
      "execution_count": null,
      "outputs": [
        {
          "output_type": "execute_result",
          "data": {
            "text/plain": [
              "<matplotlib.image.AxesImage at 0x7f63b2bbfa60>"
            ]
          },
          "metadata": {},
          "execution_count": 36
        },
        {
          "output_type": "display_data",
          "data": {
            "text/plain": [
              "<Figure size 432x288 with 1 Axes>"
            ],
            "image/png": "[encoded data removed]"
          },
          "metadata": {
            "needs_background": "light"
          }
        }
      ]
    },
    {
      "cell_type": "code",
      "source": [],
      "metadata": {
        "id": "xBGgH_QQ7ecR"
      },
      "execution_count": null,
      "outputs": []
    },
    {
      "cell_type": "markdown",
      "source": [
        "# Rotated Image Segmentation"
      ],
      "metadata": {
        "id": "RFiJTkWuExsV"
      }
    },
    {
      "cell_type": "markdown",
      "source": [
        "## For Image 1"
      ],
      "metadata": {
        "id": "tsbiAGDQE_MV"
      }
    },
    {
      "cell_type": "code",
      "source": [
        "img =io.imread('/content/drive/MyDrive/test_images/test1.png')"
      ],
      "metadata": {
        "id": "W2w7DCCPE2aL"
      },
      "execution_count": null,
      "outputs": []
    },
    {
      "cell_type": "code",
      "source": [
        "img = transform.rotate(img,angle = 25) # Rotating by 25 degrees"
      ],
      "metadata": {
        "id": "k9rGgzS8FtAS"
      },
      "execution_count": null,
      "outputs": []
    },
    {
      "cell_type": "code",
      "source": [
        "io.imshow(img)"
      ],
      "metadata": {
        "colab": {
          "base_uri": "https://localhost:8080/",
          "height": 314
        },
        "id": "1ONXydnWF20z",
        "outputId": "76ef4dc2-4fbf-456b-903e-a48f4bbbe209"
      },
      "execution_count": null,
      "outputs": [
        {
          "output_type": "execute_result",
          "data": {
            "text/plain": [
              "<matplotlib.image.AxesImage at 0x7f63af447790>"
            ]
          },
          "metadata": {},
          "execution_count": 39
        },
        {
          "output_type": "display_data",
          "data": {
            "text/plain": [
              "<Figure size 432x288 with 1 Axes>"
            ],
            "image/png": "[encoded data removed]"
          },
          "metadata": {
            "needs_background": "light"
          }
        }
      ]
    },
    {
      "cell_type": "code",
      "source": [
        "height =img.shape[0]\n",
        "width = img.shape[1]\n",
        "depth = img.shape[2]\n",
        "flattened_img = img.reshape(height*width,depth)"
      ],
      "metadata": {
        "id": "b3QxneUWF2x4"
      },
      "execution_count": null,
      "outputs": []
    },
    {
      "cell_type": "code",
      "source": [
        "len = flattened_img.shape[0]\n",
        "W = np.zeros((len,len)) # Weight matrix\n",
        "for i in range(0,len):\n",
        "  for j in range(0,i+1):\n",
        "    W[i][j]= brightness_measure(flattened_img[i],flattened_img[j])\n",
        "    W[j][i]=W[i][j]"
      ],
      "metadata": {
        "id": "LOF5uq2JF2oR"
      },
      "execution_count": null,
      "outputs": []
    },
    {
      "cell_type": "code",
      "source": [
        "D = np.zeros(W.shape) #Degree matrix\n",
        "for i in range(0,D.shape[0]):\n",
        "  D[i][i]=np.sum(W[i,:])"
      ],
      "metadata": {
        "id": "mzkAHtEyF9iY"
      },
      "execution_count": null,
      "outputs": []
    },
    {
      "cell_type": "code",
      "source": [
        "eigval,eigvec = eigsh(D-W, 2, M=D, sigma=None, which='SM')\n",
        "second_eig_vec = eigvec[:, 1] > 0\n",
        "out_img=second_eig_vec.reshape((height,width))\n",
        "plt.imshow(out_img,cmap='gray')"
      ],
      "metadata": {
        "colab": {
          "base_uri": "https://localhost:8080/",
          "height": 284
        },
        "id": "Td3gxZCQF9lR",
        "outputId": "aabf325a-165c-459e-a49c-5b60a238bbe9"
      },
      "execution_count": null,
      "outputs": [
        {
          "output_type": "execute_result",
          "data": {
            "text/plain": [
              "<matplotlib.image.AxesImage at 0x7f63b2bd4790>"
            ]
          },
          "metadata": {},
          "execution_count": 43
        },
        {
          "output_type": "display_data",
          "data": {
            "text/plain": [
              "<Figure size 432x288 with 1 Axes>"
            ],
            "image/png": "[encoded data removed]"
          },
          "metadata": {
            "needs_background": "light"
          }
        }
      ]
    },
    {
      "cell_type": "code",
      "source": [],
      "metadata": {
        "id": "-km4pV_WF9oJ"
      },
      "execution_count": null,
      "outputs": []
    },
    {
      "cell_type": "markdown",
      "source": [
        "## For Image 2"
      ],
      "metadata": {
        "id": "Dbnv6VLDIDSd"
      }
    },
    {
      "cell_type": "code",
      "source": [
        "img =io.imread('/content/drive/MyDrive/test_images/test2.jpg')"
      ],
      "metadata": {
        "id": "kiFnMdNTIFZY"
      },
      "execution_count": null,
      "outputs": []
    },
    {
      "cell_type": "code",
      "source": [
        "r=img.shape[0]\n",
        "c=img.shape[1]\n",
        "d=img.shape[2]"
      ],
      "metadata": {
        "id": "PTwXKZyMJFZM"
      },
      "execution_count": null,
      "outputs": []
    },
    {
      "cell_type": "code",
      "source": [
        "img = transform.rotate(img,angle = 25)\n",
        "img = transform.resize(img, (r/2, c/2, d), anti_aliasing=True)"
      ],
      "metadata": {
        "id": "vf9Y-T20IFcX"
      },
      "execution_count": null,
      "outputs": []
    },
    {
      "cell_type": "code",
      "source": [
        "io.imshow(img)"
      ],
      "metadata": {
        "colab": {
          "base_uri": "https://localhost:8080/",
          "height": 314
        },
        "id": "poVzCLTnINZN",
        "outputId": "5c07937d-e7f1-47c5-93ae-45d76237167e"
      },
      "execution_count": null,
      "outputs": [
        {
          "output_type": "execute_result",
          "data": {
            "text/plain": [
              "<matplotlib.image.AxesImage at 0x7f63b5291910>"
            ]
          },
          "metadata": {},
          "execution_count": 47
        },
        {
          "output_type": "display_data",
          "data": {
            "text/plain": [
              "<Figure size 432x288 with 1 Axes>"
            ],
            "image/png": "[encoded data removed]"
          },
          "metadata": {
            "needs_background": "light"
          }
        }
      ]
    },
    {
      "cell_type": "code",
      "source": [
        "height =img.shape[0]\n",
        "width = img.shape[1]\n",
        "depth = img.shape[2]\n",
        "flattened_img = img.reshape(height*width,depth)"
      ],
      "metadata": {
        "id": "MPw-Ok2hIOor"
      },
      "execution_count": null,
      "outputs": []
    },
    {
      "cell_type": "code",
      "source": [
        "len = flattened_img.shape[0]\n",
        "W = np.zeros((len,len)) # Weight matrix\n",
        "for i in range(0,len):\n",
        "  for j in range(0,i+1):\n",
        "    W[i][j]= brightness_measure(flattened_img[i],flattened_img[j])\n",
        "    W[j][i]=W[i][j]"
      ],
      "metadata": {
        "id": "C9kLqHhOIP5R"
      },
      "execution_count": null,
      "outputs": []
    },
    {
      "cell_type": "code",
      "source": [
        "D = np.zeros(W.shape) #Degree matrix\n",
        "for i in range(0,D.shape[0]):\n",
        "  D[i][i]=np.sum(W[i,:])"
      ],
      "metadata": {
        "id": "eCSBsSWSIRYj"
      },
      "execution_count": null,
      "outputs": []
    },
    {
      "cell_type": "code",
      "source": [
        "eigval,eigvec = eigsh(D-W, 2, M=D, sigma=None, which='SM')\n",
        "second_eig_vec = eigvec[:, 1] > 0\n",
        "out_img=second_eig_vec.reshape((height,width))\n",
        "plt.imshow(out_img,cmap='gray')"
      ],
      "metadata": {
        "colab": {
          "base_uri": "https://localhost:8080/",
          "height": 285
        },
        "id": "DicU6QFnIS2d",
        "outputId": "4e3de799-189e-44bc-f0c6-4c4d11fb828b"
      },
      "execution_count": null,
      "outputs": [
        {
          "output_type": "execute_result",
          "data": {
            "text/plain": [
              "<matplotlib.image.AxesImage at 0x7f63b51f9130>"
            ]
          },
          "metadata": {},
          "execution_count": 51
        },
        {
          "output_type": "display_data",
          "data": {
            "text/plain": [
              "<Figure size 432x288 with 1 Axes>"
            ],
            "image/png": "[encoded data removed]"
          },
          "metadata": {
            "needs_background": "light"
          }
        }
      ]
    },
    {
      "cell_type": "markdown",
      "source": [
        "## For Image 3"
      ],
      "metadata": {
        "id": "YGxBEc0EIwVR"
      }
    },
    {
      "cell_type": "code",
      "source": [
        "img =io.imread('/content/drive/MyDrive/test_images/test3.jpg')"
      ],
      "metadata": {
        "id": "Lc8ewgpCIyzh"
      },
      "execution_count": null,
      "outputs": []
    },
    {
      "cell_type": "code",
      "source": [
        "r=img.shape[0]\n",
        "c=img.shape[1]\n",
        "d=img.shape[2]"
      ],
      "metadata": {
        "id": "7rPZZkV7Jdxt"
      },
      "execution_count": null,
      "outputs": []
    },
    {
      "cell_type": "code",
      "source": [
        "img = transform.rotate(img,angle = 25)\n",
        "img = transform.resize(img, (int(r/10), int(c/10), d), anti_aliasing=True)"
      ],
      "metadata": {
        "id": "tXm3dfDQIy2u"
      },
      "execution_count": null,
      "outputs": []
    },
    {
      "cell_type": "code",
      "source": [
        "io.imshow(img)"
      ],
      "metadata": {
        "colab": {
          "base_uri": "https://localhost:8080/",
          "height": 314
        },
        "id": "ZriUC5T6IzFc",
        "outputId": "6c7bbee6-e61d-44b2-97ae-8c11fb6834d8"
      },
      "execution_count": null,
      "outputs": [
        {
          "output_type": "execute_result",
          "data": {
            "text/plain": [
              "<matplotlib.image.AxesImage at 0x7f63b51cabe0>"
            ]
          },
          "metadata": {},
          "execution_count": 55
        },
        {
          "output_type": "display_data",
          "data": {
            "text/plain": [
              "<Figure size 432x288 with 1 Axes>"
            ],
            "image/png": "[encoded data removed]"
          },
          "metadata": {
            "needs_background": "light"
          }
        }
      ]
    },
    {
      "cell_type": "code",
      "source": [
        "height =img.shape[0]\n",
        "width = img.shape[1]\n",
        "depth = img.shape[2]\n",
        "flattened_img = img.reshape(height*width,depth)"
      ],
      "metadata": {
        "id": "J9fzi2PFIzIo"
      },
      "execution_count": null,
      "outputs": []
    },
    {
      "cell_type": "code",
      "source": [
        "len = flattened_img.shape[0]\n",
        "W = np.zeros((len,len)) # Weight matrix\n",
        "for i in range(0,len):\n",
        "  for j in range(0,i+1):\n",
        "    W[i][j]= brightness_measure(flattened_img[i],flattened_img[j])\n",
        "    W[j][i]=W[i][j]"
      ],
      "metadata": {
        "id": "yUrNKhMkJg6x"
      },
      "execution_count": null,
      "outputs": []
    },
    {
      "cell_type": "code",
      "source": [
        "D = np.zeros(W.shape) #Degree matrix\n",
        "for i in range(0,D.shape[0]):\n",
        "  D[i][i]=np.sum(W[i,:])"
      ],
      "metadata": {
        "id": "2PeT0TGXJg9z"
      },
      "execution_count": null,
      "outputs": []
    },
    {
      "cell_type": "code",
      "source": [
        "eigval,eigvec = eigsh(D-W, 2, M=D, sigma=None, which='SM')\n",
        "second_eig_vec = eigvec[:, 1] > 0\n",
        "out_img=second_eig_vec.reshape((height,width))\n",
        "plt.imshow(out_img,cmap='gray')"
      ],
      "metadata": {
        "colab": {
          "base_uri": "https://localhost:8080/",
          "height": 283
        },
        "id": "7mvP2cR9JhBy",
        "outputId": "2d384962-b14d-4ede-bb58-6ed684428043"
      },
      "execution_count": null,
      "outputs": [
        {
          "output_type": "execute_result",
          "data": {
            "text/plain": [
              "<matplotlib.image.AxesImage at 0x7f63b512d2b0>"
            ]
          },
          "metadata": {},
          "execution_count": 59
        },
        {
          "output_type": "display_data",
          "data": {
            "text/plain": [
              "<Figure size 432x288 with 1 Axes>"
            ],
            "image/png": "[encoded data removed]"
          },
          "metadata": {
            "needs_background": "light"
          }
        }
      ]
    },
    {
      "cell_type": "code",
      "source": [],
      "metadata": {
        "id": "ZjKEmpj7JhEu"
      },
      "execution_count": null,
      "outputs": []
    },
    {
      "cell_type": "markdown",
      "source": [
        "## For Image 4\n",
        " "
      ],
      "metadata": {
        "id": "lAH6H8zIJnDI"
      }
    },
    {
      "cell_type": "code",
      "source": [
        "img =io.imread('/content/drive/MyDrive/test_images/test4.jpg')"
      ],
      "metadata": {
        "id": "-F4MgvudJsmU"
      },
      "execution_count": null,
      "outputs": []
    },
    {
      "cell_type": "code",
      "source": [
        "r=img.shape[0]\n",
        "c=img.shape[1]\n",
        "d=img.shape[2]"
      ],
      "metadata": {
        "id": "MkDPFWjwJso4"
      },
      "execution_count": null,
      "outputs": []
    },
    {
      "cell_type": "code",
      "source": [
        "img = transform.rotate(img,angle = 25)\n",
        "img = transform.resize(img, (int(r/10), int(c/10), d), anti_aliasing=True)"
      ],
      "metadata": {
        "id": "THDik5IOJsrd"
      },
      "execution_count": null,
      "outputs": []
    },
    {
      "cell_type": "code",
      "source": [
        "io.imshow(img)"
      ],
      "metadata": {
        "colab": {
          "base_uri": "https://localhost:8080/",
          "height": 314
        },
        "id": "dT4d0GRaJst0",
        "outputId": "4c9c0546-a73e-4939-950a-6d3cee99680a"
      },
      "execution_count": null,
      "outputs": [
        {
          "output_type": "execute_result",
          "data": {
            "text/plain": [
              "<matplotlib.image.AxesImage at 0x7f63b5146580>"
            ]
          },
          "metadata": {},
          "execution_count": 63
        },
        {
          "output_type": "display_data",
          "data": {
            "text/plain": [
              "<Figure size 432x288 with 1 Axes>"
            ],
            "image/png": "[encoded data removed]"
          },
          "metadata": {
            "needs_background": "light"
          }
        }
      ]
    },
    {
      "cell_type": "code",
      "source": [
        "height =img.shape[0]\n",
        "width = img.shape[1]\n",
        "depth = img.shape[2]\n",
        "flattened_img = img.reshape(height*width,depth)"
      ],
      "metadata": {
        "id": "s0JwwT4rJyrh"
      },
      "execution_count": null,
      "outputs": []
    },
    {
      "cell_type": "code",
      "source": [
        "len = flattened_img.shape[0]\n",
        "W = np.zeros((len,len)) # Weight matrix\n",
        "for i in range(0,len):\n",
        "  for j in range(0,i+1):\n",
        "    W[i][j]= brightness_measure(flattened_img[i],flattened_img[j])\n",
        "    W[j][i]=W[i][j]"
      ],
      "metadata": {
        "id": "Mnog5zdfJyul"
      },
      "execution_count": null,
      "outputs": []
    },
    {
      "cell_type": "code",
      "source": [
        "D = np.zeros(W.shape) #Degree matrix\n",
        "for i in range(0,D.shape[0]):\n",
        "  D[i][i]=np.sum(W[i,:])"
      ],
      "metadata": {
        "id": "ERpL3p1ZJswH"
      },
      "execution_count": null,
      "outputs": []
    },
    {
      "cell_type": "code",
      "source": [
        "eigval,eigvec = eigsh(D-W, 2, M=D, sigma=None, which='SM')\n",
        "second_eig_vec = eigvec[:, 1] > 0\n",
        "out_img=second_eig_vec.reshape((height,width))\n",
        "plt.imshow(out_img,cmap='gray')"
      ],
      "metadata": {
        "colab": {
          "base_uri": "https://localhost:8080/",
          "height": 283
        },
        "id": "rlNJeL1hJsyc",
        "outputId": "58a2f96f-4f4c-4f81-bd1d-c6c8a903da23"
      },
      "execution_count": null,
      "outputs": [
        {
          "output_type": "execute_result",
          "data": {
            "text/plain": [
              "<matplotlib.image.AxesImage at 0x7f63b507eac0>"
            ]
          },
          "metadata": {},
          "execution_count": 67
        },
        {
          "output_type": "display_data",
          "data": {
            "text/plain": [
              "<Figure size 432x288 with 1 Axes>"
            ],
            "image/png": "[encoded data removed]"
          },
          "metadata": {
            "needs_background": "light"
          }
        }
      ]
    },
    {
      "cell_type": "code",
      "source": [],
      "metadata": {
        "id": "147trqHcJ4QP"
      },
      "execution_count": null,
      "outputs": []
    },
    {
      "cell_type": "markdown",
      "source": [
        "## For Image 5"
      ],
      "metadata": {
        "id": "xntSLAocJ5kq"
      }
    },
    {
      "cell_type": "code",
      "source": [
        "img =io.imread('/content/drive/MyDrive/test_images/test5.jpg')"
      ],
      "metadata": {
        "id": "3YmCK9n3KAG1"
      },
      "execution_count": null,
      "outputs": []
    },
    {
      "cell_type": "code",
      "source": [
        "r=img.shape[0]\n",
        "c=img.shape[1]\n",
        "d=img.shape[2]"
      ],
      "metadata": {
        "id": "_ednt7JYKAJm"
      },
      "execution_count": null,
      "outputs": []
    },
    {
      "cell_type": "code",
      "source": [
        "img = transform.rotate(img,angle = 25)\n",
        "img = transform.resize(img, (int(r/10), int(c/10), d), anti_aliasing=True)"
      ],
      "metadata": {
        "id": "uSa5hf-tKAMi"
      },
      "execution_count": null,
      "outputs": []
    },
    {
      "cell_type": "code",
      "source": [
        "io.imshow(img)"
      ],
      "metadata": {
        "colab": {
          "base_uri": "https://localhost:8080/",
          "height": 314
        },
        "id": "n4YVALG4KAOu",
        "outputId": "c484418b-d33d-46ed-8604-b6f35dc8cdbe"
      },
      "execution_count": null,
      "outputs": [
        {
          "output_type": "execute_result",
          "data": {
            "text/plain": [
              "<matplotlib.image.AxesImage at 0x7f63b4fd6ee0>"
            ]
          },
          "metadata": {},
          "execution_count": 71
        },
        {
          "output_type": "display_data",
          "data": {
            "text/plain": [
              "<Figure size 432x288 with 1 Axes>"
            ],
            "image/png": "[encoded data removed]"
          },
          "metadata": {
            "needs_background": "light"
          }
        }
      ]
    },
    {
      "cell_type": "code",
      "source": [
        "height =img.shape[0]\n",
        "width = img.shape[1]\n",
        "depth = img.shape[2]\n",
        "flattened_img = img.reshape(height*width,depth)"
      ],
      "metadata": {
        "id": "zaOXQKirKGa9"
      },
      "execution_count": null,
      "outputs": []
    },
    {
      "cell_type": "code",
      "source": [
        "len = flattened_img.shape[0]\n",
        "W = np.zeros((len,len)) # Weight matrix\n",
        "for i in range(0,len):\n",
        "  for j in range(0,i+1):\n",
        "    W[i][j]= brightness_measure(flattened_img[i],flattened_img[j])\n",
        "    W[j][i]=W[i][j]"
      ],
      "metadata": {
        "id": "BwXLsw7QKGd_"
      },
      "execution_count": null,
      "outputs": []
    },
    {
      "cell_type": "code",
      "source": [
        "D = np.zeros(W.shape) #Degree matrix\n",
        "for i in range(0,D.shape[0]):\n",
        "  D[i][i]=np.sum(W[i,:])"
      ],
      "metadata": {
        "id": "g9WSm8diKGg3"
      },
      "execution_count": null,
      "outputs": []
    },
    {
      "cell_type": "code",
      "source": [
        "eigval,eigvec = eigsh(D-W, 2, M=D, sigma=None, which='SM')\n",
        "second_eig_vec = eigvec[:, 1] > 0\n",
        "out_img=second_eig_vec.reshape((height,width))\n",
        "plt.imshow(out_img,cmap='gray')"
      ],
      "metadata": {
        "colab": {
          "base_uri": "https://localhost:8080/",
          "height": 284
        },
        "id": "gXiZHVypKGna",
        "outputId": "a17a6f06-4916-4779-beeb-a72771ac439d"
      },
      "execution_count": null,
      "outputs": [
        {
          "output_type": "execute_result",
          "data": {
            "text/plain": [
              "<matplotlib.image.AxesImage at 0x7f63b4fc05b0>"
            ]
          },
          "metadata": {},
          "execution_count": 75
        },
        {
          "output_type": "display_data",
          "data": {
            "text/plain": [
              "<Figure size 432x288 with 1 Axes>"
            ],
            "image/png": "[encoded data removed]"
          },
          "metadata": {
            "needs_background": "light"
          }
        }
      ]
    },
    {
      "cell_type": "markdown",
      "source": [
        "# Gaussian Noise added image segmentation"
      ],
      "metadata": {
        "id": "aKSMg69CKatj"
      }
    },
    {
      "cell_type": "markdown",
      "source": [
        "## For Image 1"
      ],
      "metadata": {
        "id": "eWTN9dYoKm4L"
      }
    },
    {
      "cell_type": "code",
      "source": [
        "img =io.imread('/content/drive/MyDrive/test_images/test1.png')"
      ],
      "metadata": {
        "id": "G4X4n6cGKls1"
      },
      "execution_count": null,
      "outputs": []
    },
    {
      "cell_type": "code",
      "source": [
        "img = util.random_noise(img, mode='gaussian', var=0.01) # Adding Gaussian noise"
      ],
      "metadata": {
        "id": "LUW_HJ5XKlwE"
      },
      "execution_count": null,
      "outputs": []
    },
    {
      "cell_type": "code",
      "source": [
        "io.imshow(img)"
      ],
      "metadata": {
        "colab": {
          "base_uri": "https://localhost:8080/",
          "height": 314
        },
        "id": "-_A-L10cKl1z",
        "outputId": "8bf43f37-837d-4c6c-d5a8-c6c4489c30ce"
      },
      "execution_count": null,
      "outputs": [
        {
          "output_type": "execute_result",
          "data": {
            "text/plain": [
              "<matplotlib.image.AxesImage at 0x7f63b4f8dca0>"
            ]
          },
          "metadata": {},
          "execution_count": 78
        },
        {
          "output_type": "display_data",
          "data": {
            "text/plain": [
              "<Figure size 432x288 with 1 Axes>"
            ],
            "image/png": "[encoded data removed]"
          },
          "metadata": {
            "needs_background": "light"
          }
        }
      ]
    },
    {
      "cell_type": "code",
      "source": [
        "height =img.shape[0]\n",
        "width = img.shape[1]\n",
        "depth = img.shape[2]\n",
        "flattened_img = img.reshape(height*width,depth)"
      ],
      "metadata": {
        "id": "ttpqRN9QKl5e"
      },
      "execution_count": null,
      "outputs": []
    },
    {
      "cell_type": "code",
      "source": [
        "len = flattened_img.shape[0]\n",
        "W = np.zeros((len,len)) # Weight matrix\n",
        "for i in range(0,len):\n",
        "  for j in range(0,i+1):\n",
        "    W[i][j]= brightness_measure(flattened_img[i],flattened_img[j])\n",
        "    W[j][i]=W[i][j]"
      ],
      "metadata": {
        "id": "64j6yz0KLSwm"
      },
      "execution_count": null,
      "outputs": []
    },
    {
      "cell_type": "code",
      "source": [
        "D = np.zeros(W.shape) #Degree matrix\n",
        "for i in range(0,D.shape[0]):\n",
        "  D[i][i]=np.sum(W[i,:])"
      ],
      "metadata": {
        "id": "q8FpePlGLSz7"
      },
      "execution_count": null,
      "outputs": []
    },
    {
      "cell_type": "code",
      "source": [
        "eigval,eigvec = eigsh(D-W, 2, M=D, sigma=None, which='SM')\n",
        "second_eig_vec = eigvec[:, 1] > 0\n",
        "out_img=second_eig_vec.reshape((height,width))\n",
        "plt.imshow(out_img,cmap='gray')"
      ],
      "metadata": {
        "colab": {
          "base_uri": "https://localhost:8080/",
          "height": 284
        },
        "id": "0_NXksgfLS3G",
        "outputId": "7a3c06a8-bbd5-4330-f39f-a20bda632530"
      },
      "execution_count": null,
      "outputs": [
        {
          "output_type": "execute_result",
          "data": {
            "text/plain": [
              "<matplotlib.image.AxesImage at 0x7f63b4ee3bb0>"
            ]
          },
          "metadata": {},
          "execution_count": 82
        },
        {
          "output_type": "display_data",
          "data": {
            "text/plain": [
              "<Figure size 432x288 with 1 Axes>"
            ],
            "image/png": "[encoded data removed]"
          },
          "metadata": {
            "needs_background": "light"
          }
        }
      ]
    },
    {
      "cell_type": "markdown",
      "source": [
        "## For Image 2"
      ],
      "metadata": {
        "id": "cN91DZKlLjlK"
      }
    },
    {
      "cell_type": "code",
      "source": [
        "img =io.imread('/content/drive/MyDrive/test_images/test2.jpg')"
      ],
      "metadata": {
        "id": "RnocHSjrLnrC"
      },
      "execution_count": null,
      "outputs": []
    },
    {
      "cell_type": "code",
      "source": [
        "r=img.shape[0]\n",
        "c=img.shape[1]\n",
        "d=img.shape[2]"
      ],
      "metadata": {
        "id": "c-Gy4EkfLwt9"
      },
      "execution_count": null,
      "outputs": []
    },
    {
      "cell_type": "code",
      "source": [
        "img = util.random_noise(img, mode='gaussian', var=0.01)\n",
        "img = transform.resize(img, (r/2, c/2, d), anti_aliasing=True)"
      ],
      "metadata": {
        "id": "scT8_tPHLnus"
      },
      "execution_count": null,
      "outputs": []
    },
    {
      "cell_type": "code",
      "source": [
        "io.imshow(img)"
      ],
      "metadata": {
        "colab": {
          "base_uri": "https://localhost:8080/",
          "height": 314
        },
        "id": "RXZXzcSIMDrF",
        "outputId": "d28f26a0-3c4e-49bb-cda5-dfae65a5149a"
      },
      "execution_count": null,
      "outputs": [
        {
          "output_type": "execute_result",
          "data": {
            "text/plain": [
              "<matplotlib.image.AxesImage at 0x7f63b4eb1ca0>"
            ]
          },
          "metadata": {},
          "execution_count": 86
        },
        {
          "output_type": "display_data",
          "data": {
            "text/plain": [
              "<Figure size 432x288 with 1 Axes>"
            ],
            "image/png": "[encoded data removed]"
          },
          "metadata": {
            "needs_background": "light"
          }
        }
      ]
    },
    {
      "cell_type": "code",
      "source": [
        "height =img.shape[0]\n",
        "width = img.shape[1]\n",
        "depth = img.shape[2]\n",
        "flattened_img = img.reshape(height*width,depth)"
      ],
      "metadata": {
        "id": "iJX2k-xhMDuh"
      },
      "execution_count": null,
      "outputs": []
    },
    {
      "cell_type": "code",
      "source": [
        "len = flattened_img.shape[0]\n",
        "W = np.zeros((len,len)) # Weight matrix\n",
        "for i in range(0,len):\n",
        "  for j in range(0,i+1):\n",
        "    W[i][j]= brightness_measure(flattened_img[i],flattened_img[j])\n",
        "    W[j][i]=W[i][j]"
      ],
      "metadata": {
        "id": "_1nlUkgzMDyA"
      },
      "execution_count": null,
      "outputs": []
    },
    {
      "cell_type": "code",
      "source": [
        "D = np.zeros(W.shape) #Degree matrix\n",
        "for i in range(0,D.shape[0]):\n",
        "  D[i][i]=np.sum(W[i,:])"
      ],
      "metadata": {
        "id": "N2kSqY2XMNeL"
      },
      "execution_count": null,
      "outputs": []
    },
    {
      "cell_type": "code",
      "source": [
        "eigval,eigvec = eigsh(D-W, 2, M=D, sigma=None, which='SM')\n",
        "second_eig_vec = eigvec[:, 1] > 0\n",
        "out_img=second_eig_vec.reshape((height,width))\n",
        "plt.imshow(out_img,cmap='gray')"
      ],
      "metadata": {
        "colab": {
          "base_uri": "https://localhost:8080/",
          "height": 285
        },
        "id": "PwYfv5V4MNhw",
        "outputId": "8f87aa92-02c1-4f07-9b73-5474a42835b7"
      },
      "execution_count": null,
      "outputs": [
        {
          "output_type": "execute_result",
          "data": {
            "text/plain": [
              "<matplotlib.image.AxesImage at 0x7f63b4e1e160>"
            ]
          },
          "metadata": {},
          "execution_count": 90
        },
        {
          "output_type": "display_data",
          "data": {
            "text/plain": [
              "<Figure size 432x288 with 1 Axes>"
            ],
            "image/png": "[encoded data removed]"
          },
          "metadata": {
            "needs_background": "light"
          }
        }
      ]
    },
    {
      "cell_type": "code",
      "source": [],
      "metadata": {
        "id": "iFkcUaEJMD1B"
      },
      "execution_count": null,
      "outputs": []
    },
    {
      "cell_type": "markdown",
      "source": [
        "## For Image 3"
      ],
      "metadata": {
        "id": "1bbCvuHQMRRp"
      }
    },
    {
      "cell_type": "code",
      "source": [
        "img =io.imread('/content/drive/MyDrive/test_images/test3.jpg')"
      ],
      "metadata": {
        "id": "j3mOsJTjMUMj"
      },
      "execution_count": null,
      "outputs": []
    },
    {
      "cell_type": "code",
      "source": [
        "r=img.shape[0]\n",
        "c=img.shape[1]\n",
        "d=img.shape[2]"
      ],
      "metadata": {
        "id": "tN9UtHgvMUQM"
      },
      "execution_count": null,
      "outputs": []
    },
    {
      "cell_type": "code",
      "source": [
        "img = util.random_noise(img, mode='gaussian', var=0.01)\n",
        "img = transform.resize(img, (r/10, c/10, d), anti_aliasing=True)"
      ],
      "metadata": {
        "id": "d97srRCGMZg3"
      },
      "execution_count": null,
      "outputs": []
    },
    {
      "cell_type": "code",
      "source": [
        "io.imshow(img)"
      ],
      "metadata": {
        "colab": {
          "base_uri": "https://localhost:8080/",
          "height": 314
        },
        "id": "9RcHW-RTMUUB",
        "outputId": "43d50f88-dfbb-4834-eb89-9683a5caf7c9"
      },
      "execution_count": null,
      "outputs": [
        {
          "output_type": "execute_result",
          "data": {
            "text/plain": [
              "<matplotlib.image.AxesImage at 0x7f63b18fe610>"
            ]
          },
          "metadata": {},
          "execution_count": 94
        },
        {
          "output_type": "display_data",
          "data": {
            "text/plain": [
              "<Figure size 432x288 with 1 Axes>"
            ],
            "image/png": "[encoded data removed]"
          },
          "metadata": {
            "needs_background": "light"
          }
        }
      ]
    },
    {
      "cell_type": "code",
      "source": [
        "height =img.shape[0]\n",
        "width = img.shape[1]\n",
        "depth = img.shape[2]\n",
        "flattened_img = img.reshape(height*width,depth)"
      ],
      "metadata": {
        "id": "zn8NtJk9MUXi"
      },
      "execution_count": null,
      "outputs": []
    },
    {
      "cell_type": "code",
      "source": [
        "len = flattened_img.shape[0]\n",
        "W = np.zeros((len,len)) # Weight matrix\n",
        "for i in range(0,len):\n",
        "  for j in range(0,i+1):\n",
        "    W[i][j]= brightness_measure(flattened_img[i],flattened_img[j])\n",
        "    W[j][i]=W[i][j]"
      ],
      "metadata": {
        "id": "og7PGTL0MfHj"
      },
      "execution_count": null,
      "outputs": []
    },
    {
      "cell_type": "code",
      "source": [
        "D = np.zeros(W.shape) #Degree matrix\n",
        "for i in range(0,D.shape[0]):\n",
        "  D[i][i]=np.sum(W[i,:])"
      ],
      "metadata": {
        "id": "Hfp2pKdVMfLW"
      },
      "execution_count": null,
      "outputs": []
    },
    {
      "cell_type": "code",
      "source": [
        "eigval,eigvec = eigsh(D-W, 2, M=D, sigma=None, which='SM')\n",
        "second_eig_vec = eigvec[:, 1] > 0\n",
        "out_img=second_eig_vec.reshape((height,width))\n",
        "plt.imshow(out_img,cmap='gray')"
      ],
      "metadata": {
        "colab": {
          "base_uri": "https://localhost:8080/",
          "height": 283
        },
        "id": "bAR9V3i5MfPT",
        "outputId": "e03094ac-77fb-483a-983c-acde33936c88"
      },
      "execution_count": null,
      "outputs": [
        {
          "output_type": "execute_result",
          "data": {
            "text/plain": [
              "<matplotlib.image.AxesImage at 0x7f63b50037f0>"
            ]
          },
          "metadata": {},
          "execution_count": 98
        },
        {
          "output_type": "display_data",
          "data": {
            "text/plain": [
              "<Figure size 432x288 with 1 Axes>"
            ],
            "image/png": "[encoded data removed]"
          },
          "metadata": {
            "needs_background": "light"
          }
        }
      ]
    },
    {
      "cell_type": "code",
      "source": [],
      "metadata": {
        "id": "SkKiZWMYMfX1"
      },
      "execution_count": null,
      "outputs": []
    },
    {
      "cell_type": "markdown",
      "source": [
        "## For Image 4"
      ],
      "metadata": {
        "id": "Xuxww7TmMnr8"
      }
    },
    {
      "cell_type": "code",
      "source": [
        "img =io.imread('/content/drive/MyDrive/test_images/test4.jpg')"
      ],
      "metadata": {
        "id": "SJjaXbTZMrzj"
      },
      "execution_count": null,
      "outputs": []
    },
    {
      "cell_type": "code",
      "source": [
        "r=img.shape[0]\n",
        "c=img.shape[1]\n",
        "d=img.shape[2]"
      ],
      "metadata": {
        "id": "8x0PdQKbMr3K"
      },
      "execution_count": null,
      "outputs": []
    },
    {
      "cell_type": "code",
      "source": [
        "img = util.random_noise(img, mode='gaussian', var=0.01)\n",
        "img = transform.resize(img, (int(r/10), int(c/10), d), anti_aliasing=True)"
      ],
      "metadata": {
        "id": "MW8yYtFZMsFy"
      },
      "execution_count": null,
      "outputs": []
    },
    {
      "cell_type": "code",
      "source": [
        "io.imshow(img)"
      ],
      "metadata": {
        "colab": {
          "base_uri": "https://localhost:8080/",
          "height": 314
        },
        "id": "KAsb0JTuMsJ3",
        "outputId": "7571aa5d-85c0-4071-d099-9112abfa0503"
      },
      "execution_count": null,
      "outputs": [
        {
          "output_type": "execute_result",
          "data": {
            "text/plain": [
              "<matplotlib.image.AxesImage at 0x7f63b4d87100>"
            ]
          },
          "metadata": {},
          "execution_count": 102
        },
        {
          "output_type": "display_data",
          "data": {
            "text/plain": [
              "<Figure size 432x288 with 1 Axes>"
            ],
            "image/png": "[encoded data removed]"
          },
          "metadata": {
            "needs_background": "light"
          }
        }
      ]
    },
    {
      "cell_type": "code",
      "source": [
        "height =img.shape[0]\n",
        "width = img.shape[1]\n",
        "depth = img.shape[2]\n",
        "flattened_img = img.reshape(height*width,depth)"
      ],
      "metadata": {
        "id": "rJdWO4lcMxMH"
      },
      "execution_count": null,
      "outputs": []
    },
    {
      "cell_type": "code",
      "source": [
        "len = flattened_img.shape[0]\n",
        "W = np.zeros((len,len)) # Weight matrix\n",
        "for i in range(0,len):\n",
        "  for j in range(0,i+1):\n",
        "    W[i][j]= brightness_measure(flattened_img[i],flattened_img[j])\n",
        "    W[j][i]=W[i][j]"
      ],
      "metadata": {
        "id": "axf9X9mgMxPz"
      },
      "execution_count": null,
      "outputs": []
    },
    {
      "cell_type": "code",
      "source": [
        "D = np.zeros(W.shape) #Degree matrix\n",
        "for i in range(0,D.shape[0]):\n",
        "  D[i][i]=np.sum(W[i,:])"
      ],
      "metadata": {
        "id": "pba9rQbSMxTs"
      },
      "execution_count": null,
      "outputs": []
    },
    {
      "cell_type": "code",
      "source": [
        "eigval,eigvec = eigsh(D-W, 2, M=D, sigma=None, which='SM')\n",
        "second_eig_vec = eigvec[:, 1] > 0\n",
        "out_img=second_eig_vec.reshape((height,width))\n",
        "plt.imshow(out_img,cmap='gray')"
      ],
      "metadata": {
        "colab": {
          "base_uri": "https://localhost:8080/",
          "height": 283
        },
        "id": "I0Jb0fIAMxXW",
        "outputId": "b3bfe1fb-0b28-461d-fec5-63c627803114"
      },
      "execution_count": null,
      "outputs": [
        {
          "output_type": "execute_result",
          "data": {
            "text/plain": [
              "<matplotlib.image.AxesImage at 0x7f63b4ce01c0>"
            ]
          },
          "metadata": {},
          "execution_count": 106
        },
        {
          "output_type": "display_data",
          "data": {
            "text/plain": [
              "<Figure size 432x288 with 1 Axes>"
            ],
            "image/png": "[encoded data removed]"
          },
          "metadata": {
            "needs_background": "light"
          }
        }
      ]
    },
    {
      "cell_type": "code",
      "source": [],
      "metadata": {
        "id": "1NAvi9_AM5J3"
      },
      "execution_count": null,
      "outputs": []
    },
    {
      "cell_type": "markdown",
      "source": [
        "## For Image 5"
      ],
      "metadata": {
        "id": "Sl9jy5YsM5SZ"
      }
    },
    {
      "cell_type": "code",
      "source": [
        "img =io.imread('/content/drive/MyDrive/test_images/test5.jpg')"
      ],
      "metadata": {
        "id": "L9HWtPVCM7pI"
      },
      "execution_count": null,
      "outputs": []
    },
    {
      "cell_type": "code",
      "source": [
        "r=img.shape[0]\n",
        "c=img.shape[1]\n",
        "d=img.shape[2]"
      ],
      "metadata": {
        "id": "_tQ85WPcM7sn"
      },
      "execution_count": null,
      "outputs": []
    },
    {
      "cell_type": "code",
      "source": [
        "img = util.random_noise(img, mode='gaussian', var=0.01)\n",
        "img = transform.resize(img, (int(r/10), int(c/10), d), anti_aliasing=True)"
      ],
      "metadata": {
        "id": "zFJBijekM7wC"
      },
      "execution_count": null,
      "outputs": []
    },
    {
      "cell_type": "code",
      "source": [
        "io.imshow(img)"
      ],
      "metadata": {
        "colab": {
          "base_uri": "https://localhost:8080/",
          "height": 314
        },
        "id": "XQp5xP82M7z6",
        "outputId": "567585eb-e62c-46f5-f70c-73f796dcba57"
      },
      "execution_count": null,
      "outputs": [
        {
          "output_type": "execute_result",
          "data": {
            "text/plain": [
              "<matplotlib.image.AxesImage at 0x7f63b4cb5640>"
            ]
          },
          "metadata": {},
          "execution_count": 110
        },
        {
          "output_type": "display_data",
          "data": {
            "text/plain": [
              "<Figure size 432x288 with 1 Axes>"
            ],
            "image/png": "[encoded data removed]"
          },
          "metadata": {
            "needs_background": "light"
          }
        }
      ]
    },
    {
      "cell_type": "code",
      "source": [
        "height =img.shape[0]\n",
        "width = img.shape[1]\n",
        "depth = img.shape[2]\n",
        "flattened_img = img.reshape(height*width,depth)"
      ],
      "metadata": {
        "id": "7wY79m8zNEjz"
      },
      "execution_count": null,
      "outputs": []
    },
    {
      "cell_type": "code",
      "source": [
        "len = flattened_img.shape[0]\n",
        "W = np.zeros((len,len)) # Weight matrix\n",
        "for i in range(0,len):\n",
        "  for j in range(0,i+1):\n",
        "    W[i][j]= brightness_measure(flattened_img[i],flattened_img[j])\n",
        "    W[j][i]=W[i][j]"
      ],
      "metadata": {
        "id": "bjy9iIKLNEnz"
      },
      "execution_count": null,
      "outputs": []
    },
    {
      "cell_type": "code",
      "source": [
        "D = np.zeros(W.shape) #Degree matrix\n",
        "for i in range(0,D.shape[0]):\n",
        "  D[i][i]=np.sum(W[i,:])"
      ],
      "metadata": {
        "id": "Ibk0ogsANEuV"
      },
      "execution_count": null,
      "outputs": []
    },
    {
      "cell_type": "code",
      "source": [
        "eigval,eigvec = eigsh(D-W, 2, M=D, sigma=None, which='SM')\n",
        "second_eig_vec = eigvec[:, 1] > 0\n",
        "out_img=second_eig_vec.reshape((height,width))\n",
        "plt.imshow(out_img,cmap='gray')"
      ],
      "metadata": {
        "colab": {
          "base_uri": "https://localhost:8080/",
          "height": 284
        },
        "id": "ShI-EMHVNE5s",
        "outputId": "48a7fe72-04eb-4530-cde3-ff359227a07a"
      },
      "execution_count": null,
      "outputs": [
        {
          "output_type": "execute_result",
          "data": {
            "text/plain": [
              "<matplotlib.image.AxesImage at 0x7f63b4c17d90>"
            ]
          },
          "metadata": {},
          "execution_count": 114
        },
        {
          "output_type": "display_data",
          "data": {
            "text/plain": [
              "<Figure size 432x288 with 1 Axes>"
            ],
            "image/png": "[encoded data removed]"
          },
          "metadata": {
            "needs_background": "light"
          }
        }
      ]
    },
    {
      "cell_type": "markdown",
      "source": [
        "# Colored distance Simmilarity as measure"
      ],
      "metadata": {
        "id": "Xea2TH_2738A"
      }
    },
    {
      "cell_type": "code",
      "source": [
        "def color_dist_measure(pix1,pix2): # Function to calculate simmilarity weight on colour distance\n",
        "  sig_1 = 10\n",
        "  r1, g1, b1 = pix1\n",
        "  r2, g2, b2 = pix2\n",
        "  color_dist = np.sqrt((r1-r2)**2 + (g1-g2)**2 + (b1-b2)**2)\n",
        "  weight = exp(-color_dist/sig_1)\n",
        "  return(weight)"
      ],
      "metadata": {
        "id": "VJRPhxagCBEV"
      },
      "execution_count": null,
      "outputs": []
    },
    {
      "cell_type": "code",
      "source": [],
      "metadata": {
        "id": "XHhy9QV88PLh"
      },
      "execution_count": null,
      "outputs": []
    },
    {
      "cell_type": "markdown",
      "source": [
        "## For Image 1"
      ],
      "metadata": {
        "id": "LkzruIzE8P17"
      }
    },
    {
      "cell_type": "code",
      "source": [
        "img =io.imread('/content/drive/MyDrive/test_images/test1.png')"
      ],
      "metadata": {
        "id": "7y3xIsoB8S9Y"
      },
      "execution_count": null,
      "outputs": []
    },
    {
      "cell_type": "code",
      "source": [
        "height =img.shape[0]\n",
        "width = img.shape[1]\n",
        "depth = img.shape[2]\n",
        "flattened_img = img.reshape(height*width,depth)"
      ],
      "metadata": {
        "id": "jCUzZ1zs8Y9A"
      },
      "execution_count": null,
      "outputs": []
    },
    {
      "cell_type": "code",
      "source": [
        "io.imshow(img)"
      ],
      "metadata": {
        "id": "AhClF1P1Nkha",
        "colab": {
          "base_uri": "https://localhost:8080/",
          "height": 314
        },
        "outputId": "870ffce0-2aae-4a2a-acf6-392a0facda94"
      },
      "execution_count": null,
      "outputs": [
        {
          "output_type": "execute_result",
          "data": {
            "text/plain": [
              "<matplotlib.image.AxesImage at 0x7f63b4bf18e0>"
            ]
          },
          "metadata": {},
          "execution_count": 118
        },
        {
          "output_type": "display_data",
          "data": {
            "text/plain": [
              "<Figure size 432x288 with 1 Axes>"
            ],
            "image/png": "[encoded data removed]"
          },
          "metadata": {
            "needs_background": "light"
          }
        }
      ]
    },
    {
      "cell_type": "code",
      "source": [
        "len = flattened_img.shape[0]\n",
        "W = np.zeros((len,len)) # Weight matrix\n",
        "for i in range(0,len):\n",
        "  for j in range(0,i+1):\n",
        "    W[i][j]= color_dist_measure(flattened_img[i],flattened_img[j])\n",
        "    W[j][i]=W[i][j]"
      ],
      "metadata": {
        "colab": {
          "base_uri": "https://localhost:8080/"
        },
        "id": "RjpZn4a08a_m",
        "outputId": "de114893-6b9e-44f7-fcec-81da9465bc63"
      },
      "execution_count": null,
      "outputs": [
        {
          "output_type": "stream",
          "name": "stderr",
          "text": [
            "<ipython-input-115-57ed722b1f30>:5: RuntimeWarning: overflow encountered in ubyte_scalars\n",
            "  color_dist = np.sqrt((r1-r2)**2 + (g1-g2)**2 + (b1-b2)**2)\n"
          ]
        }
      ]
    },
    {
      "cell_type": "code",
      "source": [
        "D = np.zeros(W.shape) #Degree matrix\n",
        "for i in range(0,D.shape[0]):\n",
        "  D[i][i]=np.sum(W[i,:])"
      ],
      "metadata": {
        "id": "-tyS1Yjr8pB1"
      },
      "execution_count": null,
      "outputs": []
    },
    {
      "cell_type": "code",
      "source": [
        "eigval,eigvec = eigsh(D-W, 2, M=D, sigma=None, which='SM')\n",
        "second_eig_vec = eigvec[:, 1] > 0\n",
        "out_img=second_eig_vec.reshape((height,width))\n",
        "plt.imshow(out_img,cmap='gray')"
      ],
      "metadata": {
        "colab": {
          "base_uri": "https://localhost:8080/",
          "height": 284
        },
        "id": "kOS5ihkN8w4r",
        "outputId": "ea0e7ba3-363c-43e3-9ced-58a07d8ce84a"
      },
      "execution_count": null,
      "outputs": [
        {
          "output_type": "execute_result",
          "data": {
            "text/plain": [
              "<matplotlib.image.AxesImage at 0x7f63b4bc96a0>"
            ]
          },
          "metadata": {},
          "execution_count": 121
        },
        {
          "output_type": "display_data",
          "data": {
            "text/plain": [
              "<Figure size 432x288 with 1 Axes>"
            ],
            "image/png": "[encoded data removed]"
          },
          "metadata": {
            "needs_background": "light"
          }
        }
      ]
    },
    {
      "cell_type": "markdown",
      "source": [
        "## For Image 2"
      ],
      "metadata": {
        "id": "I5Scp66V85Lg"
      }
    },
    {
      "cell_type": "code",
      "source": [
        "img1 =io.imread('/content/drive/MyDrive/test_images/test2.jpg')"
      ],
      "metadata": {
        "id": "n9_g41aB8-yq"
      },
      "execution_count": null,
      "outputs": []
    },
    {
      "cell_type": "code",
      "source": [
        "r=img1.shape[0]\n",
        "c=img1.shape[1]\n",
        "d=img1.shape[2]\n",
        "img = transform.resize(img1, (r/2, c/2, d), anti_aliasing=True)"
      ],
      "metadata": {
        "id": "b42s0qsw9Aot"
      },
      "execution_count": null,
      "outputs": []
    },
    {
      "cell_type": "code",
      "source": [
        "io.imshow(img)"
      ],
      "metadata": {
        "id": "xYgRF46nNf-c",
        "colab": {
          "base_uri": "https://localhost:8080/",
          "height": 314
        },
        "outputId": "fe897576-0033-407a-c6b6-7a0c005caae7"
      },
      "execution_count": null,
      "outputs": [
        {
          "output_type": "execute_result",
          "data": {
            "text/plain": [
              "<matplotlib.image.AxesImage at 0x7f63b4b220a0>"
            ]
          },
          "metadata": {},
          "execution_count": 124
        },
        {
          "output_type": "display_data",
          "data": {
            "text/plain": [
              "<Figure size 432x288 with 1 Axes>"
            ],
            "image/png": "[encoded data removed]"
          },
          "metadata": {
            "needs_background": "light"
          }
        }
      ]
    },
    {
      "cell_type": "code",
      "source": [
        "height =img.shape[0]\n",
        "width = img.shape[1]\n",
        "depth = img.shape[2]\n",
        "flattened_img = img.reshape(height*width,depth)"
      ],
      "metadata": {
        "id": "OeVkHC5L9C__"
      },
      "execution_count": null,
      "outputs": []
    },
    {
      "cell_type": "code",
      "source": [
        "len = flattened_img.shape[0]\n",
        "W = np.zeros((len,len)) # Weight matrix\n",
        "for i in range(0,len):\n",
        "  for j in range(0,i+1):\n",
        "    W[i][j]= color_dist_measure(flattened_img[i],flattened_img[j])\n",
        "    W[j][i]=W[i][j]"
      ],
      "metadata": {
        "id": "KgjXmEFP9EjR"
      },
      "execution_count": null,
      "outputs": []
    },
    {
      "cell_type": "code",
      "source": [
        "D = np.zeros(W.shape) #Degree matrix\n",
        "for i in range(0,D.shape[0]):\n",
        "  D[i][i]=np.sum(W[i,:])"
      ],
      "metadata": {
        "id": "C836vrGs9GQz"
      },
      "execution_count": null,
      "outputs": []
    },
    {
      "cell_type": "code",
      "source": [
        "eigval,eigvec = eigsh(D-W, 2, M=D, sigma=None, which='SM')\n",
        "second_eig_vec = eigvec[:, 1] > 0\n",
        "out_img=second_eig_vec.reshape((height,width))\n",
        "plt.imshow(out_img,cmap='gray')"
      ],
      "metadata": {
        "colab": {
          "base_uri": "https://localhost:8080/",
          "height": 285
        },
        "id": "qxyKY2qb9IFK",
        "outputId": "1a3d6dde-4c30-424f-b44d-1385a54846c6"
      },
      "execution_count": null,
      "outputs": [
        {
          "output_type": "execute_result",
          "data": {
            "text/plain": [
              "<matplotlib.image.AxesImage at 0x7f63b4afe730>"
            ]
          },
          "metadata": {},
          "execution_count": 128
        },
        {
          "output_type": "display_data",
          "data": {
            "text/plain": [
              "<Figure size 432x288 with 1 Axes>"
            ],
            "image/png": "[encoded data removed]"
          },
          "metadata": {
            "needs_background": "light"
          }
        }
      ]
    },
    {
      "cell_type": "code",
      "source": [],
      "metadata": {
        "id": "H5VfQAuw9OMq"
      },
      "execution_count": null,
      "outputs": []
    },
    {
      "cell_type": "markdown",
      "source": [
        "## For Image 3"
      ],
      "metadata": {
        "id": "uwcfseDGBeW6"
      }
    },
    {
      "cell_type": "code",
      "source": [
        "img1 =io.imread('/content/drive/MyDrive/test_images/test3.jpg')"
      ],
      "metadata": {
        "id": "6DejUgTHBf29"
      },
      "execution_count": null,
      "outputs": []
    },
    {
      "cell_type": "code",
      "source": [
        "r=img1.shape[0]\n",
        "c=img1.shape[1]\n",
        "d=img1.shape[2]\n",
        "img = transform.resize(img1, (r/10, c/10, d), anti_aliasing=True)"
      ],
      "metadata": {
        "id": "VdA1cy4ODO17"
      },
      "execution_count": null,
      "outputs": []
    },
    {
      "cell_type": "code",
      "source": [
        "io.imshow(img)"
      ],
      "metadata": {
        "id": "oTHgYSHiNdFp",
        "colab": {
          "base_uri": "https://localhost:8080/",
          "height": 314
        },
        "outputId": "1b73a918-16d4-42cd-f3c2-54ce74255f40"
      },
      "execution_count": null,
      "outputs": [
        {
          "output_type": "execute_result",
          "data": {
            "text/plain": [
              "<matplotlib.image.AxesImage at 0x7f63b4a65220>"
            ]
          },
          "metadata": {},
          "execution_count": 131
        },
        {
          "output_type": "display_data",
          "data": {
            "text/plain": [
              "<Figure size 432x288 with 1 Axes>"
            ],
            "image/png": "[encoded data removed]"
          },
          "metadata": {
            "needs_background": "light"
          }
        }
      ]
    },
    {
      "cell_type": "code",
      "source": [
        "height =img.shape[0]\n",
        "width = img.shape[1]\n",
        "depth = img.shape[2]\n",
        "flattened_img = img.reshape(height*width,depth)"
      ],
      "metadata": {
        "id": "IhJbp-soDQvG"
      },
      "execution_count": null,
      "outputs": []
    },
    {
      "cell_type": "code",
      "source": [
        "len = flattened_img.shape[0]\n",
        "W = np.zeros((len,len)) # Weight matrix\n",
        "for i in range(0,len):\n",
        "  for j in range(0,i+1):\n",
        "    W[i][j]= color_dist_measure(flattened_img[i],flattened_img[j])\n",
        "    W[j][i]=W[i][j]"
      ],
      "metadata": {
        "id": "NyqZX9m1DSYF"
      },
      "execution_count": null,
      "outputs": []
    },
    {
      "cell_type": "code",
      "source": [
        "D = np.zeros(W.shape) #Degree matrix\n",
        "for i in range(0,D.shape[0]):\n",
        "  D[i][i]=np.sum(W[i,:])"
      ],
      "metadata": {
        "id": "GjpFxHQFDUCS"
      },
      "execution_count": null,
      "outputs": []
    },
    {
      "cell_type": "code",
      "source": [
        "eigval,eigvec = eigsh(D-W, 2, M=D, sigma=None, which='SM')\n",
        "second_eig_vec = eigvec[:, 1] > 0\n",
        "out_img=second_eig_vec.reshape((height,width))\n",
        "plt.imshow(out_img,cmap='gray')"
      ],
      "metadata": {
        "colab": {
          "base_uri": "https://localhost:8080/",
          "height": 283
        },
        "id": "WJgxLhVNDV_m",
        "outputId": "8eac748b-7928-4e9e-e485-417b34ff8137"
      },
      "execution_count": null,
      "outputs": [
        {
          "output_type": "execute_result",
          "data": {
            "text/plain": [
              "<matplotlib.image.AxesImage at 0x7f63b4a379d0>"
            ]
          },
          "metadata": {},
          "execution_count": 135
        },
        {
          "output_type": "display_data",
          "data": {
            "text/plain": [
              "<Figure size 432x288 with 1 Axes>"
            ],
            "image/png": "[encoded data removed]"
          },
          "metadata": {
            "needs_background": "light"
          }
        }
      ]
    },
    {
      "cell_type": "markdown",
      "source": [
        "## For Image 4"
      ],
      "metadata": {
        "id": "M1HZ32pwDqz2"
      }
    },
    {
      "cell_type": "code",
      "source": [
        "img1 =io.imread('/content/drive/MyDrive/test_images/test4.jpg')"
      ],
      "metadata": {
        "id": "N0WUuJ8jDsn4"
      },
      "execution_count": null,
      "outputs": []
    },
    {
      "cell_type": "code",
      "source": [
        "r=img1.shape[0]\n",
        "c=img1.shape[1]\n",
        "d=img1.shape[2]\n",
        "img = transform.resize(img1, (int(r/10), int(c/10), d), anti_aliasing=True)"
      ],
      "metadata": {
        "id": "qBBHX6DZDuGt"
      },
      "execution_count": null,
      "outputs": []
    },
    {
      "cell_type": "code",
      "source": [
        "io.imshow(img)"
      ],
      "metadata": {
        "id": "hffSWhLaNaUa",
        "colab": {
          "base_uri": "https://localhost:8080/",
          "height": 314
        },
        "outputId": "d747cfbe-1bb3-4637-ca3a-83539063b5e1"
      },
      "execution_count": null,
      "outputs": [
        {
          "output_type": "execute_result",
          "data": {
            "text/plain": [
              "<matplotlib.image.AxesImage at 0x7f63b49980d0>"
            ]
          },
          "metadata": {},
          "execution_count": 138
        },
        {
          "output_type": "display_data",
          "data": {
            "text/plain": [
              "<Figure size 432x288 with 1 Axes>"
            ],
            "image/png": "[encoded data removed]"
          },
          "metadata": {
            "needs_background": "light"
          }
        }
      ]
    },
    {
      "cell_type": "code",
      "source": [
        "height =img.shape[0]\n",
        "width = img.shape[1]\n",
        "depth = img.shape[2]\n",
        "flattened_img = img.reshape(height*width,depth)"
      ],
      "metadata": {
        "id": "9xTphxOLDvSI"
      },
      "execution_count": null,
      "outputs": []
    },
    {
      "cell_type": "code",
      "source": [
        "len = flattened_img.shape[0]\n",
        "W = np.zeros((len,len)) # Weight matrix\n",
        "for i in range(0,len):\n",
        "  for j in range(0,i+1):\n",
        "    W[i][j]= color_dist_measure(flattened_img[i],flattened_img[j])\n",
        "    W[j][i]=W[i][j]"
      ],
      "metadata": {
        "id": "6NF_NeE2D1x4"
      },
      "execution_count": null,
      "outputs": []
    },
    {
      "cell_type": "code",
      "source": [
        "D = np.zeros(W.shape) #Degree matrix\n",
        "for i in range(0,D.shape[0]):\n",
        "  D[i][i]=np.sum(W[i,:])"
      ],
      "metadata": {
        "id": "bw5RUdTKD3ue"
      },
      "execution_count": null,
      "outputs": []
    },
    {
      "cell_type": "code",
      "source": [
        "eigval,eigvec = eigsh(D-W, 2, M=D, sigma=None, which='SM')\n",
        "second_eig_vec = eigvec[:, 1] > 0\n",
        "out_img=second_eig_vec.reshape((height,width))\n",
        "plt.imshow(out_img,cmap='gray')"
      ],
      "metadata": {
        "colab": {
          "base_uri": "https://localhost:8080/",
          "height": 283
        },
        "id": "39l8ACgtD5Vt",
        "outputId": "b4a75b42-2c7c-44ca-f6a5-20673c082135"
      },
      "execution_count": null,
      "outputs": [
        {
          "output_type": "execute_result",
          "data": {
            "text/plain": [
              "<matplotlib.image.AxesImage at 0x7f63b4976190>"
            ]
          },
          "metadata": {},
          "execution_count": 142
        },
        {
          "output_type": "display_data",
          "data": {
            "text/plain": [
              "<Figure size 432x288 with 1 Axes>"
            ],
            "image/png": "[encoded data removed]"
          },
          "metadata": {
            "needs_background": "light"
          }
        }
      ]
    },
    {
      "cell_type": "code",
      "source": [],
      "metadata": {
        "id": "ZqPTO93QEO5x"
      },
      "execution_count": null,
      "outputs": []
    },
    {
      "cell_type": "markdown",
      "source": [
        "## For Image 5"
      ],
      "metadata": {
        "id": "SFyiDIpmEQCH"
      }
    },
    {
      "cell_type": "code",
      "source": [
        "img1 =io.imread('/content/drive/MyDrive/test_images/test5.jpg')"
      ],
      "metadata": {
        "id": "gNzmbDO_ET32"
      },
      "execution_count": null,
      "outputs": []
    },
    {
      "cell_type": "code",
      "source": [
        "r=img1.shape[0]\n",
        "c=img1.shape[1]\n",
        "d=img1.shape[2]\n",
        "img = transform.resize(img1, (int(r/10), int(c/10), d), anti_aliasing=True)"
      ],
      "metadata": {
        "id": "X4KPr35ZEVXZ"
      },
      "execution_count": null,
      "outputs": []
    },
    {
      "cell_type": "code",
      "source": [
        "io.imshow(img)"
      ],
      "metadata": {
        "colab": {
          "base_uri": "https://localhost:8080/",
          "height": 314
        },
        "id": "ZbVGtkrcEjYw",
        "outputId": "5a9bd7b0-c730-4a44-8905-2ba4003baa73"
      },
      "execution_count": null,
      "outputs": [
        {
          "output_type": "execute_result",
          "data": {
            "text/plain": [
              "<matplotlib.image.AxesImage at 0x7f63b494b400>"
            ]
          },
          "metadata": {},
          "execution_count": 145
        },
        {
          "output_type": "display_data",
          "data": {
            "text/plain": [
              "<Figure size 432x288 with 1 Axes>"
            ],
            "image/png": "[encoded data removed]"
          },
          "metadata": {
            "needs_background": "light"
          }
        }
      ]
    },
    {
      "cell_type": "code",
      "source": [
        "height =img.shape[0]\n",
        "width = img.shape[1]\n",
        "depth = img.shape[2]\n",
        "flattened_img = img.reshape(height*width,depth)"
      ],
      "metadata": {
        "id": "gihry8_VEWtU"
      },
      "execution_count": null,
      "outputs": []
    },
    {
      "cell_type": "code",
      "source": [
        "len = flattened_img.shape[0]\n",
        "W = np.zeros((len,len)) # Weight matrix\n",
        "for i in range(0,len):\n",
        "  for j in range(0,i+1):\n",
        "    W[i][j]= color_dist_measure(flattened_img[i],flattened_img[j])\n",
        "    W[j][i]=W[i][j]"
      ],
      "metadata": {
        "id": "18MxQwUDEYAN"
      },
      "execution_count": null,
      "outputs": []
    },
    {
      "cell_type": "code",
      "source": [
        "D = np.zeros(W.shape) #Degree matrix\n",
        "for i in range(0,D.shape[0]):\n",
        "  D[i][i]=np.sum(W[i,:])"
      ],
      "metadata": {
        "id": "_mymURUkEZiR"
      },
      "execution_count": null,
      "outputs": []
    },
    {
      "cell_type": "code",
      "source": [
        "eigval,eigvec = eigsh(D-W, 2, M=D, sigma=None, which='SM')\n",
        "second_eig_vec = eigvec[:, 1] > 0\n",
        "out_img=second_eig_vec.reshape((height,width))\n",
        "plt.imshow(out_img,cmap='gray')"
      ],
      "metadata": {
        "colab": {
          "base_uri": "https://localhost:8080/",
          "height": 284
        },
        "id": "mQMO4GFdEbAf",
        "outputId": "6312f9ae-ab57-469a-92b9-289d3a7cb601"
      },
      "execution_count": null,
      "outputs": [
        {
          "output_type": "execute_result",
          "data": {
            "text/plain": [
              "<matplotlib.image.AxesImage at 0x7f63b48ab790>"
            ]
          },
          "metadata": {},
          "execution_count": 149
        },
        {
          "output_type": "display_data",
          "data": {
            "text/plain": [
              "<Figure size 432x288 with 1 Axes>"
            ],
            "image/png": "[encoded data removed]"
          },
          "metadata": {
            "needs_background": "light"
          }
        }
      ]
    }
  ]
}